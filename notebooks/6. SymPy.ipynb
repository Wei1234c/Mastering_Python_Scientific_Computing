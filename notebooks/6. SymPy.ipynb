{
 "cells": [
  {
   "cell_type": "markdown",
   "metadata": {},
   "source": [
    "# 6. SymPy"
   ]
  },
  {
   "cell_type": "code",
   "execution_count": null,
   "metadata": {
    "collapsed": false
   },
   "outputs": [],
   "source": [
    "%pylab inline"
   ]
  },
  {
   "cell_type": "markdown",
   "metadata": {},
   "source": [
    "## 6.1 符號 表達式 和基本運算"
   ]
  },
  {
   "cell_type": "code",
   "execution_count": null,
   "metadata": {
    "collapsed": false
   },
   "outputs": [],
   "source": [
    "from __future__ import division\n",
    "import sympy\n",
    "from sympy import Symbol, symbols\n",
    "from sympy import *\n",
    "\n",
    "x, y, z = symbols('x y z')\n",
    "x, y, z"
   ]
  },
  {
   "cell_type": "code",
   "execution_count": null,
   "metadata": {
    "collapsed": false
   },
   "outputs": [],
   "source": [
    "m0, m1, m2, m3, m4 = symbols('m0:5')\n",
    "m0, m1, m2, m3, m4 "
   ]
  },
  {
   "cell_type": "code",
   "execution_count": null,
   "metadata": {
    "collapsed": false
   },
   "outputs": [],
   "source": [
    "x1 = Symbol('x1')\n",
    "x1 + 500\n",
    "x1"
   ]
  },
  {
   "cell_type": "code",
   "execution_count": null,
   "metadata": {
    "collapsed": false
   },
   "outputs": [],
   "source": [
    "y=22/7\n",
    "y"
   ]
  },
  {
   "cell_type": "markdown",
   "metadata": {},
   "source": [
    "#### evalf(), n() 估值"
   ]
  },
  {
   "cell_type": "code",
   "execution_count": null,
   "metadata": {
    "collapsed": false
   },
   "outputs": [],
   "source": [
    "from __future__ import division\n",
    "from sympy import evalf, N, sin, pi\n",
    "\n",
    "x=sin(50)\n",
    "pi.evalf()"
   ]
  },
  {
   "cell_type": "code",
   "execution_count": null,
   "metadata": {
    "collapsed": false
   },
   "outputs": [],
   "source": [
    "pi.evalf(50)"
   ]
  },
  {
   "cell_type": "code",
   "execution_count": null,
   "metadata": {
    "collapsed": false
   },
   "outputs": [],
   "source": [
    "x.n()"
   ]
  },
  {
   "cell_type": "code",
   "execution_count": null,
   "metadata": {
    "collapsed": false
   },
   "outputs": [],
   "source": [
    "x.n(20)"
   ]
  },
  {
   "cell_type": "markdown",
   "metadata": {},
   "source": [
    "#### collect, expand, factor, simplify, subs"
   ]
  },
  {
   "cell_type": "code",
   "execution_count": null,
   "metadata": {
    "collapsed": false
   },
   "outputs": [],
   "source": [
    "from sympy import collect, expand, factor, simplify\n",
    "from sympy import Symbol, symbols\n",
    "from sympy import sin, cos\n",
    "\n",
    "x, y, a, b, c, d = symbols('x y a b c d')\n",
    "\n",
    "expr = a*x**2+2*b*x**2+cos(x)+51*x**2\n",
    "simplify(expr)"
   ]
  },
  {
   "cell_type": "code",
   "execution_count": null,
   "metadata": {
    "collapsed": false
   },
   "outputs": [],
   "source": [
    "factor(x**2+x-30)"
   ]
  },
  {
   "cell_type": "code",
   "execution_count": null,
   "metadata": {
    "collapsed": false
   },
   "outputs": [],
   "source": [
    "expand ( (x-5) * (x+6) )"
   ]
  },
  {
   "cell_type": "code",
   "execution_count": null,
   "metadata": {
    "collapsed": false
   },
   "outputs": [],
   "source": [
    "collect(x**3 + a*x**2 + b*x**2 + c*x + d, x)"
   ]
  },
  {
   "cell_type": "code",
   "execution_count": null,
   "metadata": {
    "collapsed": false
   },
   "outputs": [],
   "source": [
    "expr = sin(x)*sin(x) + cos(x)*cos(x)\n",
    "expr"
   ]
  },
  {
   "cell_type": "code",
   "execution_count": null,
   "metadata": {
    "collapsed": false
   },
   "outputs": [],
   "source": [
    "expr.subs({x:5, y:25})"
   ]
  },
  {
   "cell_type": "code",
   "execution_count": null,
   "metadata": {
    "collapsed": false
   },
   "outputs": [],
   "source": [
    "expr.subs({x:5, y:25}).n()"
   ]
  },
  {
   "cell_type": "markdown",
   "metadata": {},
   "source": [
    "## 6.2 求解方程"
   ]
  },
  {
   "cell_type": "markdown",
   "metadata": {},
   "source": [
    "#### solve()"
   ]
  },
  {
   "cell_type": "code",
   "execution_count": null,
   "metadata": {
    "collapsed": false
   },
   "outputs": [],
   "source": [
    "from sympy import solve\n",
    "a, b, c = symbols('a b c')"
   ]
  },
  {
   "cell_type": "code",
   "execution_count": null,
   "metadata": {
    "collapsed": false
   },
   "outputs": [],
   "source": [
    "solve(6*x**2 - 3*x - 30, x)"
   ]
  },
  {
   "cell_type": "code",
   "execution_count": null,
   "metadata": {
    "collapsed": false
   },
   "outputs": [],
   "source": [
    "solve( a*x**2 + b*x + c, x)"
   ]
  },
  {
   "cell_type": "code",
   "execution_count": null,
   "metadata": {
    "collapsed": false
   },
   "outputs": [],
   "source": [
    "gen_sol = solve( a*x**2 + b*x + c, x)\n",
    "[gen_sol[0].subs({'a':6,'b':-3,'c':-30}),\n",
    "gen_sol[1].subs({'a':6,'b':-3,'c':-30}) ]"
   ]
  },
  {
   "cell_type": "code",
   "execution_count": null,
   "metadata": {
    "collapsed": false
   },
   "outputs": [],
   "source": [
    "solve([2*x + 3*y - 3, x -2* y + 1], [x, y])"
   ]
  },
  {
   "cell_type": "code",
   "execution_count": null,
   "metadata": {
    "collapsed": false
   },
   "outputs": [],
   "source": [
    "x, y = symbols('x y')\n",
    "solve([2*x + y - 4, 5*x - 3*y], [x, y])"
   ]
  },
  {
   "cell_type": "code",
   "execution_count": null,
   "metadata": {
    "collapsed": false
   },
   "outputs": [],
   "source": [
    "solve([2*x + 2*y -1, 2*x - 4*y], [x, y])"
   ]
  },
  {
   "cell_type": "markdown",
   "metadata": {},
   "source": [
    "## 6.3 有理數 指數 對數函數"
   ]
  },
  {
   "cell_type": "markdown",
   "metadata": {},
   "source": [
    "#### together, apart"
   ]
  },
  {
   "cell_type": "code",
   "execution_count": null,
   "metadata": {
    "collapsed": false
   },
   "outputs": [],
   "source": [
    "from sympy import together, apart, symbols\n",
    "from sympy import *\n",
    "\n",
    "x1, x2, x3, x4 = symbols('x1 x2 x3 x4')\n",
    "x1/x2 + x3/x4"
   ]
  },
  {
   "cell_type": "code",
   "execution_count": null,
   "metadata": {
    "collapsed": false
   },
   "outputs": [],
   "source": [
    "together(x1/x2 + x3/x4)"
   ]
  },
  {
   "cell_type": "code",
   "execution_count": null,
   "metadata": {
    "collapsed": false
   },
   "outputs": [],
   "source": [
    "apart ((2*x**2+3*x+4)/(x+1))"
   ]
  },
  {
   "cell_type": "code",
   "execution_count": null,
   "metadata": {
    "collapsed": false
   },
   "outputs": [],
   "source": [
    "together(apart ((2*x**2+3*x+4)/(x+1)))"
   ]
  },
  {
   "cell_type": "code",
   "execution_count": null,
   "metadata": {
    "collapsed": false
   },
   "outputs": [],
   "source": [
    "log(4).n()"
   ]
  },
  {
   "cell_type": "code",
   "execution_count": null,
   "metadata": {
    "collapsed": false
   },
   "outputs": [],
   "source": [
    "log(4,4).n()"
   ]
  },
  {
   "cell_type": "code",
   "execution_count": null,
   "metadata": {
    "collapsed": false
   },
   "outputs": [],
   "source": [
    "ln(4).n()"
   ]
  },
  {
   "cell_type": "code",
   "execution_count": null,
   "metadata": {
    "collapsed": false
   },
   "outputs": [],
   "source": [
    "mpmath.log10(4)"
   ]
  },
  {
   "cell_type": "markdown",
   "metadata": {},
   "source": [
    "## 6.4 多項式"
   ]
  },
  {
   "cell_type": "markdown",
   "metadata": {},
   "source": [
    "#### 必須用 simplifer 之後才能判斷 兩個多項式是否等價"
   ]
  },
  {
   "cell_type": "code",
   "execution_count": null,
   "metadata": {
    "collapsed": false
   },
   "outputs": [],
   "source": [
    "from sympy import *\n",
    "\n",
    "p, q = symbols ('p q')\n",
    "p = (x+4)*(x+2)\n",
    "q = x**2 + 6*x + 8\n",
    "p == q # Unsuccessfull"
   ]
  },
  {
   "cell_type": "code",
   "execution_count": null,
   "metadata": {
    "collapsed": false
   },
   "outputs": [],
   "source": [
    "p - q == 0 # Unsuccessfull "
   ]
  },
  {
   "cell_type": "code",
   "execution_count": null,
   "metadata": {
    "collapsed": false
   },
   "outputs": [],
   "source": [
    "simplify(p - q) == 0"
   ]
  },
  {
   "cell_type": "markdown",
   "metadata": {},
   "source": [
    "## 6.5 三角函數 複數"
   ]
  },
  {
   "cell_type": "code",
   "execution_count": null,
   "metadata": {
    "collapsed": false
   },
   "outputs": [],
   "source": [
    "from sympy import *\n",
    "\n",
    "x, y = symbols('x y')\n",
    "expr = sin(x)*cos(y)+cos(x)*sin(y)\n",
    "expr"
   ]
  },
  {
   "cell_type": "code",
   "execution_count": null,
   "metadata": {
    "collapsed": false
   },
   "outputs": [],
   "source": [
    "trigsimp(expr)"
   ]
  },
  {
   "cell_type": "code",
   "execution_count": null,
   "metadata": {
    "collapsed": false
   },
   "outputs": [],
   "source": [
    "expr_exp= exp(5*sin(x)**2+4*cos(x)**2)\n",
    "expr_exp"
   ]
  },
  {
   "cell_type": "code",
   "execution_count": null,
   "metadata": {
    "collapsed": false
   },
   "outputs": [],
   "source": [
    "trigsimp(expr_exp)"
   ]
  },
  {
   "cell_type": "code",
   "execution_count": null,
   "metadata": {
    "collapsed": false
   },
   "outputs": [],
   "source": [
    "expand_trig(sin(x+y))"
   ]
  },
  {
   "cell_type": "code",
   "execution_count": null,
   "metadata": {
    "collapsed": false
   },
   "outputs": [],
   "source": [
    "solve(x**2+4,x) #complex number as solution"
   ]
  },
  {
   "cell_type": "markdown",
   "metadata": {},
   "source": [
    "## 6.6 線性代數"
   ]
  },
  {
   "cell_type": "code",
   "execution_count": null,
   "metadata": {
    "collapsed": false
   },
   "outputs": [],
   "source": [
    "from sympy import *\n",
    "A = Matrix( [[1, 2, 3, 4],\n",
    "             [5, 6, 7, 8],\n",
    "             [ 9, 10, 11, 12],\n",
    "             [ 13, 14, 15, 16]] )\n",
    "\n",
    "B = Matrix ([[1, 2, 3],\n",
    "             [5, 6, 7],\n",
    "             [ 9, 10, 11]] )"
   ]
  },
  {
   "cell_type": "code",
   "execution_count": null,
   "metadata": {
    "collapsed": false
   },
   "outputs": [],
   "source": [
    "A.row_del(3)\n",
    "A"
   ]
  },
  {
   "cell_type": "code",
   "execution_count": null,
   "metadata": {
    "collapsed": false
   },
   "outputs": [],
   "source": [
    "A.col_del(3)\n",
    "A"
   ]
  },
  {
   "cell_type": "code",
   "execution_count": null,
   "metadata": {
    "collapsed": false
   },
   "outputs": [],
   "source": [
    "A[0,1] # display row 0, col 1 of A"
   ]
  },
  {
   "cell_type": "code",
   "execution_count": null,
   "metadata": {
    "collapsed": false
   },
   "outputs": [],
   "source": [
    "A[0:2,0:3] # top-left submatrix(2x3)"
   ]
  },
  {
   "cell_type": "code",
   "execution_count": null,
   "metadata": {
    "collapsed": false
   },
   "outputs": [],
   "source": [
    "A.row_join(B)\n",
    "A"
   ]
  },
  {
   "cell_type": "code",
   "execution_count": null,
   "metadata": {
    "collapsed": false
   },
   "outputs": [],
   "source": [
    "B.col_join(B)"
   ]
  },
  {
   "cell_type": "code",
   "execution_count": null,
   "metadata": {
    "collapsed": false
   },
   "outputs": [],
   "source": [
    "A + B"
   ]
  },
  {
   "cell_type": "code",
   "execution_count": null,
   "metadata": {
    "collapsed": false
   },
   "outputs": [],
   "source": [
    "A - B"
   ]
  },
  {
   "cell_type": "code",
   "execution_count": null,
   "metadata": {
    "collapsed": false
   },
   "outputs": [],
   "source": [
    "A * B"
   ]
  },
  {
   "cell_type": "code",
   "execution_count": null,
   "metadata": {
    "collapsed": false
   },
   "outputs": [],
   "source": [
    "A **2 "
   ]
  },
  {
   "cell_type": "code",
   "execution_count": null,
   "metadata": {
    "collapsed": false
   },
   "outputs": [],
   "source": [
    "eye(3) # 3x3 identity matrix"
   ]
  },
  {
   "cell_type": "code",
   "execution_count": null,
   "metadata": {
    "collapsed": false
   },
   "outputs": [],
   "source": [
    "zeros(3, 3) # 3x3 matrix with all elements Zeros"
   ]
  },
  {
   "cell_type": "code",
   "execution_count": null,
   "metadata": {
    "collapsed": false
   },
   "outputs": [],
   "source": [
    "ones(3, 3) # 3x3 matrix with all elements Ones"
   ]
  },
  {
   "cell_type": "code",
   "execution_count": null,
   "metadata": {
    "collapsed": false
   },
   "outputs": [],
   "source": [
    "A.transpose() # It is same as A.T"
   ]
  },
  {
   "cell_type": "code",
   "execution_count": null,
   "metadata": {
    "collapsed": false
   },
   "outputs": [],
   "source": [
    "A.rref()"
   ]
  },
  {
   "cell_type": "code",
   "execution_count": null,
   "metadata": {
    "collapsed": false
   },
   "outputs": [],
   "source": [
    "A.nullspace() # N(A)"
   ]
  },
  {
   "cell_type": "code",
   "execution_count": null,
   "metadata": {
    "collapsed": false
   },
   "outputs": [],
   "source": [
    "M = Matrix( [[1, 2, 3],\n",
    "        [4, 5, 6],\n",
    "        [7, 8, 10]] )\n",
    "\n",
    "M.det()"
   ]
  },
  {
   "cell_type": "code",
   "execution_count": null,
   "metadata": {
    "collapsed": false
   },
   "outputs": [],
   "source": [
    "from sympy import *\n",
    "A = Matrix( [[1,2],\n",
    "\t[3,4]] )\n",
    "A"
   ]
  },
  {
   "cell_type": "code",
   "execution_count": null,
   "metadata": {
    "collapsed": false
   },
   "outputs": [],
   "source": [
    "A.inv()"
   ]
  },
  {
   "cell_type": "code",
   "execution_count": null,
   "metadata": {
    "collapsed": false
   },
   "outputs": [],
   "source": [
    "A.inv()*A"
   ]
  },
  {
   "cell_type": "code",
   "execution_count": null,
   "metadata": {
    "collapsed": false
   },
   "outputs": [],
   "source": [
    "A*A.inv()"
   ]
  },
  {
   "cell_type": "code",
   "execution_count": null,
   "metadata": {
    "collapsed": false
   },
   "outputs": [],
   "source": [
    "A = Matrix( [[ 1, -2],\n",
    "\t [-2, 3]] )\n",
    "A"
   ]
  },
  {
   "cell_type": "code",
   "execution_count": null,
   "metadata": {
    "collapsed": false
   },
   "outputs": [],
   "source": [
    "A.eigenvals() # same as solve( det(A-eye(2)*x), x)"
   ]
  },
  {
   "cell_type": "code",
   "execution_count": null,
   "metadata": {
    "collapsed": false
   },
   "outputs": [],
   "source": [
    "A.eigenvects()"
   ]
  },
  {
   "cell_type": "code",
   "execution_count": null,
   "metadata": {
    "collapsed": false
   },
   "outputs": [],
   "source": [
    "A.rref()"
   ]
  },
  {
   "cell_type": "code",
   "execution_count": null,
   "metadata": {
    "collapsed": false
   },
   "outputs": [],
   "source": [
    "A.nullspace()"
   ]
  },
  {
   "cell_type": "code",
   "execution_count": null,
   "metadata": {
    "collapsed": false
   },
   "outputs": [],
   "source": [
    "x = Symbol('x')\n",
    "M = eye(3) * x\n",
    "M"
   ]
  },
  {
   "cell_type": "code",
   "execution_count": null,
   "metadata": {
    "collapsed": false
   },
   "outputs": [],
   "source": [
    "M.subs(x, 4)"
   ]
  },
  {
   "cell_type": "code",
   "execution_count": null,
   "metadata": {
    "collapsed": false
   },
   "outputs": [],
   "source": [
    "y = Symbol('y')\n",
    "M.subs(x, y)"
   ]
  },
  {
   "cell_type": "code",
   "execution_count": null,
   "metadata": {
    "collapsed": false
   },
   "outputs": [],
   "source": [
    "M.inv()"
   ]
  },
  {
   "cell_type": "code",
   "execution_count": null,
   "metadata": {
    "collapsed": false
   },
   "outputs": [],
   "source": [
    "M.inv(\"LU\")"
   ]
  },
  {
   "cell_type": "code",
   "execution_count": null,
   "metadata": {
    "collapsed": false
   },
   "outputs": [],
   "source": [
    "A = Matrix([[1,2,1],[2,3,3],[1,3,2]])\n",
    "Q, R = A.QRdecomposition()\n",
    "Q"
   ]
  },
  {
   "cell_type": "code",
   "execution_count": null,
   "metadata": {
    "collapsed": false
   },
   "outputs": [],
   "source": [
    "M = [Matrix([1,2,3]), Matrix([3,4,5]), Matrix([5,7,8])]\n",
    "M"
   ]
  },
  {
   "cell_type": "code",
   "execution_count": null,
   "metadata": {
    "collapsed": false
   },
   "outputs": [],
   "source": [
    "result1 = GramSchmidt(M)\n",
    "result1"
   ]
  },
  {
   "cell_type": "code",
   "execution_count": null,
   "metadata": {
    "collapsed": false
   },
   "outputs": [],
   "source": [
    "result2 = GramSchmidt(M, True)\n",
    "result2"
   ]
  },
  {
   "cell_type": "markdown",
   "metadata": {},
   "source": [
    "## 6.7 微積分"
   ]
  },
  {
   "cell_type": "markdown",
   "metadata": {},
   "source": [
    "#### 極限"
   ]
  },
  {
   "cell_type": "code",
   "execution_count": null,
   "metadata": {
    "collapsed": false
   },
   "outputs": [],
   "source": [
    "from sympy import limit, oo, symbols,exp, cos\n",
    "\n",
    "oo+1"
   ]
  },
  {
   "cell_type": "code",
   "execution_count": null,
   "metadata": {
    "collapsed": false
   },
   "outputs": [],
   "source": [
    "5000 < oo"
   ]
  },
  {
   "cell_type": "code",
   "execution_count": null,
   "metadata": {
    "collapsed": false
   },
   "outputs": [],
   "source": [
    "1/oo"
   ]
  },
  {
   "cell_type": "code",
   "execution_count": null,
   "metadata": {
    "collapsed": false
   },
   "outputs": [],
   "source": [
    "x , n = symbols ('x n')\n",
    "limit( ((x**n - 1)/ (x - 1) ), x, 1)"
   ]
  },
  {
   "cell_type": "code",
   "execution_count": null,
   "metadata": {
    "collapsed": false
   },
   "outputs": [],
   "source": [
    "limit( 1/x**2, x, 0)"
   ]
  },
  {
   "cell_type": "code",
   "execution_count": null,
   "metadata": {
    "collapsed": false
   },
   "outputs": [],
   "source": [
    "limit( 1/x, x, 0, dir=\"-\")"
   ]
  },
  {
   "cell_type": "code",
   "execution_count": null,
   "metadata": {
    "collapsed": false
   },
   "outputs": [],
   "source": [
    "limit(cos(x)/x, x, 0)"
   ]
  },
  {
   "cell_type": "code",
   "execution_count": null,
   "metadata": {
    "collapsed": false
   },
   "outputs": [],
   "source": [
    "limit(sin(x)**2/x, x, 0)"
   ]
  },
  {
   "cell_type": "code",
   "execution_count": null,
   "metadata": {
    "collapsed": false
   },
   "outputs": [],
   "source": [
    "limit(exp(x)/x,x,oo)"
   ]
  },
  {
   "cell_type": "markdown",
   "metadata": {},
   "source": [
    "#### 微分"
   ]
  },
  {
   "cell_type": "code",
   "execution_count": null,
   "metadata": {
    "collapsed": false
   },
   "outputs": [],
   "source": [
    "from sympy import diff, symbols, Symbol, exp, dsolve, Function\n",
    "from sympy import *\n",
    "diff(x**4, x)"
   ]
  },
  {
   "cell_type": "code",
   "execution_count": null,
   "metadata": {
    "collapsed": false
   },
   "outputs": [],
   "source": [
    "diff( x**3*cos(x), x )"
   ]
  },
  {
   "cell_type": "code",
   "execution_count": null,
   "metadata": {
    "collapsed": false
   },
   "outputs": [],
   "source": [
    "diff( cos(x**2), x )"
   ]
  },
  {
   "cell_type": "code",
   "execution_count": null,
   "metadata": {
    "collapsed": false
   },
   "outputs": [],
   "source": [
    "diff( x/sin(x), x )"
   ]
  },
  {
   "cell_type": "code",
   "execution_count": null,
   "metadata": {
    "collapsed": false
   },
   "outputs": [],
   "source": [
    "diff(x**3, x, 2)"
   ]
  },
  {
   "cell_type": "code",
   "execution_count": null,
   "metadata": {
    "collapsed": false
   },
   "outputs": [],
   "source": [
    "diff( exp(x), x)"
   ]
  },
  {
   "cell_type": "markdown",
   "metadata": {},
   "source": [
    "#### desolve 解 常微分方程式 方程組"
   ]
  },
  {
   "cell_type": "code",
   "execution_count": null,
   "metadata": {
    "collapsed": false
   },
   "outputs": [],
   "source": [
    "x = symbols('x')\n",
    "f = symbols('f', cls=Function) \n",
    "# C1= sym\n",
    "dsolve( f(x) - diff(f(x),x), f(x) )"
   ]
  },
  {
   "cell_type": "code",
   "execution_count": null,
   "metadata": {
    "collapsed": false
   },
   "outputs": [],
   "source": [
    "#The boundary conditions are passed to dsolve as a dictionary, through the ics named argument.\n",
    "from sympy import *\n",
    "x=symbols('x')\n",
    "f=symbols('f', cls=Function)\n",
    "dsolve(Eq(f(x).diff(x,x), 900*(f(x)-1+2*x)), f(x), ics={f(0):5, f(2):10})\n",
    "#f(x) = C1*e^−30x + C2*e^30x − 2x + 1"
   ]
  },
  {
   "cell_type": "markdown",
   "metadata": {},
   "source": [
    "#### 尋找臨界點與最大值"
   ]
  },
  {
   "cell_type": "code",
   "execution_count": null,
   "metadata": {
    "collapsed": false
   },
   "outputs": [],
   "source": [
    "x = Symbol('x')\n",
    "f = 4*x**3-3*x**2+2*x\n",
    "diff(f, x)"
   ]
  },
  {
   "cell_type": "code",
   "execution_count": null,
   "metadata": {
    "collapsed": false
   },
   "outputs": [],
   "source": [
    "sols = solve( diff(f,x), x)\n",
    "sols"
   ]
  },
  {
   "cell_type": "code",
   "execution_count": null,
   "metadata": {
    "collapsed": false
   },
   "outputs": [],
   "source": [
    "diff(diff(f,x), x).subs( {x:sols[0]} )"
   ]
  },
  {
   "cell_type": "code",
   "execution_count": null,
   "metadata": {
    "collapsed": false
   },
   "outputs": [],
   "source": [
    "diff(diff(f,x), x).subs( {x:sols[1]} )"
   ]
  },
  {
   "cell_type": "markdown",
   "metadata": {},
   "source": [
    "#### integrate 求 定積分 不定積分 "
   ]
  },
  {
   "cell_type": "code",
   "execution_count": null,
   "metadata": {
    "collapsed": false
   },
   "outputs": [],
   "source": [
    "integrate(x**3+1, x)"
   ]
  },
  {
   "cell_type": "code",
   "execution_count": null,
   "metadata": {
    "collapsed": false
   },
   "outputs": [],
   "source": [
    "integrate(x*sin(x), x)"
   ]
  },
  {
   "cell_type": "code",
   "execution_count": null,
   "metadata": {
    "collapsed": false
   },
   "outputs": [],
   "source": [
    "integrate(x+ln(x), x)"
   ]
  },
  {
   "cell_type": "code",
   "execution_count": null,
   "metadata": {
    "collapsed": false
   },
   "outputs": [],
   "source": [
    "F = integrate(x**3+1, x)\n",
    "F.subs({x:1}) - F.subs({x:0})"
   ]
  },
  {
   "cell_type": "code",
   "execution_count": null,
   "metadata": {
    "collapsed": false
   },
   "outputs": [],
   "source": [
    "integrate(x**3-x**2+x, (x,0,1))\t\t# definite Integrals "
   ]
  },
  {
   "cell_type": "code",
   "execution_count": null,
   "metadata": {
    "collapsed": false
   },
   "outputs": [],
   "source": [
    "integrate(sin(x)/x, (x,0,pi))\t\t# definite Integrals "
   ]
  },
  {
   "cell_type": "code",
   "execution_count": null,
   "metadata": {
    "collapsed": false
   },
   "outputs": [],
   "source": [
    "integrate(sin(x)/x, (x,pi,2*pi))\t# definite Integrals "
   ]
  },
  {
   "cell_type": "code",
   "execution_count": null,
   "metadata": {
    "collapsed": false
   },
   "outputs": [],
   "source": [
    "integrate(x*sin(x)/(x+1), (x,0,2*pi)) # definite Integrals "
   ]
  },
  {
   "cell_type": "code",
   "execution_count": null,
   "metadata": {
    "collapsed": false
   },
   "outputs": [],
   "source": [
    "integrate(x*sin(x)/(x+1), (x,0,2*pi)).n() # definite Integrals "
   ]
  },
  {
   "cell_type": "markdown",
   "metadata": {},
   "source": [
    "#### Series"
   ]
  },
  {
   "cell_type": "code",
   "execution_count": null,
   "metadata": {
    "collapsed": false
   },
   "outputs": [],
   "source": [
    "s1_n = 1/n\n",
    "s1_n"
   ]
  },
  {
   "cell_type": "code",
   "execution_count": null,
   "metadata": {
    "collapsed": false
   },
   "outputs": [],
   "source": [
    "s2_n = 1/factorial(n)\n",
    "s2_n "
   ]
  },
  {
   "cell_type": "code",
   "execution_count": null,
   "metadata": {
    "collapsed": false
   },
   "outputs": [],
   "source": [
    "s1_n.subs({n:5})"
   ]
  },
  {
   "cell_type": "code",
   "execution_count": null,
   "metadata": {
    "collapsed": false
   },
   "outputs": [],
   "source": [
    "s2_n.subs({n:5})"
   ]
  },
  {
   "cell_type": "code",
   "execution_count": null,
   "metadata": {
    "collapsed": false
   },
   "outputs": [],
   "source": [
    "[ s1_n.subs({n:index1}) for index1 in range(0,8) ]"
   ]
  },
  {
   "cell_type": "code",
   "execution_count": null,
   "metadata": {
    "collapsed": false
   },
   "outputs": [],
   "source": [
    "[ s2_n.subs({n:index1}) for index1 in range(0,8) ]"
   ]
  },
  {
   "cell_type": "code",
   "execution_count": null,
   "metadata": {
    "collapsed": false
   },
   "outputs": [],
   "source": [
    "limit(s1_n, n, oo)"
   ]
  },
  {
   "cell_type": "code",
   "execution_count": null,
   "metadata": {
    "collapsed": false
   },
   "outputs": [],
   "source": [
    "limit(s2_n, n, oo)"
   ]
  },
  {
   "cell_type": "markdown",
   "metadata": {},
   "source": [
    "#### 幕級數"
   ]
  },
  {
   "cell_type": "code",
   "execution_count": null,
   "metadata": {
    "collapsed": false
   },
   "outputs": [],
   "source": [
    "s1_n = 1/n\n",
    "s2_n = 1/factorial(n)\n",
    "summation(s1_n, [n, 1, oo])"
   ]
  },
  {
   "cell_type": "code",
   "execution_count": null,
   "metadata": {
    "collapsed": false
   },
   "outputs": [],
   "source": [
    "summation(s2_n, [n, 0, oo])"
   ]
  },
  {
   "cell_type": "code",
   "execution_count": null,
   "metadata": {
    "collapsed": false
   },
   "outputs": [],
   "source": [
    "import math\n",
    "def s2_nf(n):\n",
    "\treturn 1.0/math.factorial(n)\n",
    "\n",
    "sum( [s2_nf(n) for n in range(0,10)] )"
   ]
  },
  {
   "cell_type": "code",
   "execution_count": null,
   "metadata": {
    "collapsed": false
   },
   "outputs": [],
   "source": [
    "E.evalf()"
   ]
  },
  {
   "cell_type": "code",
   "execution_count": null,
   "metadata": {
    "collapsed": false
   },
   "outputs": [],
   "source": [
    "exponential_xn = x**n/factorial(n)\n",
    "summation( exponential_xn.subs({x:5}), [x, 0, oo] ).evalf()"
   ]
  },
  {
   "cell_type": "code",
   "execution_count": null,
   "metadata": {
    "collapsed": false
   },
   "outputs": [],
   "source": [
    "summation( exponential_xn.subs({x:5}), [x, 0, oo])"
   ]
  },
  {
   "cell_type": "code",
   "execution_count": null,
   "metadata": {
    "collapsed": false
   },
   "outputs": [],
   "source": [
    "exp(5).evalf()"
   ]
  },
  {
   "cell_type": "code",
   "execution_count": null,
   "metadata": {
    "collapsed": false
   },
   "outputs": [],
   "source": [
    "import math # redo using only python\n",
    "def exponential_xnf(x,n):\n",
    "\treturn x**n/math.factorial(n)\n",
    "sum( [exponential_xnf(5.0,i) for i in range(0,35)] )"
   ]
  },
  {
   "cell_type": "code",
   "execution_count": null,
   "metadata": {
    "collapsed": false
   },
   "outputs": [],
   "source": [
    "series( sin(x), x, 0, 8)"
   ]
  },
  {
   "cell_type": "code",
   "execution_count": null,
   "metadata": {
    "collapsed": false
   },
   "outputs": [],
   "source": [
    "series( cos(x), x, 0, 8)"
   ]
  },
  {
   "cell_type": "code",
   "execution_count": null,
   "metadata": {
    "collapsed": false
   },
   "outputs": [],
   "source": [
    "series( sinh(x), x, 0, 8)"
   ]
  },
  {
   "cell_type": "code",
   "execution_count": null,
   "metadata": {
    "collapsed": false
   },
   "outputs": [],
   "source": [
    "series( cosh(x), x, 0, 8)"
   ]
  },
  {
   "cell_type": "code",
   "execution_count": null,
   "metadata": {
    "collapsed": false
   },
   "outputs": [],
   "source": [
    "series(ln(x), x, 1, 6) # Taylor series of ln(x) at x=1"
   ]
  },
  {
   "cell_type": "code",
   "execution_count": null,
   "metadata": {
    "collapsed": false
   },
   "outputs": [],
   "source": [
    "series(ln(x+1), x, 0, 6) # Maclaurin series of ln(x+1)"
   ]
  },
  {
   "cell_type": "markdown",
   "metadata": {},
   "source": [
    "## 6.8 向量"
   ]
  },
  {
   "cell_type": "code",
   "execution_count": null,
   "metadata": {
    "collapsed": false
   },
   "outputs": [],
   "source": [
    "from sympy import *\n",
    "u = Matrix([[1,2,3]]) # a row vector = 1x3 matrix\n",
    "v = Matrix([[4], [5], [6]])# a col vector = 3x1 matrix\n",
    "v.T # use the transpose operation to"
   ]
  },
  {
   "cell_type": "code",
   "execution_count": null,
   "metadata": {
    "collapsed": false
   },
   "outputs": [],
   "source": [
    "u[1] # 0-based indexing for entries"
   ]
  },
  {
   "cell_type": "code",
   "execution_count": null,
   "metadata": {
    "collapsed": false
   },
   "outputs": [],
   "source": [
    "u.norm() # length of u"
   ]
  },
  {
   "cell_type": "code",
   "execution_count": null,
   "metadata": {
    "collapsed": false
   },
   "outputs": [],
   "source": [
    "uhat = u/u.norm() # unit-length vec in same dir as u"
   ]
  },
  {
   "cell_type": "code",
   "execution_count": null,
   "metadata": {
    "collapsed": false
   },
   "outputs": [],
   "source": [
    "uhat"
   ]
  },
  {
   "cell_type": "code",
   "execution_count": null,
   "metadata": {
    "collapsed": false
   },
   "outputs": [],
   "source": [
    "uhat.norm()"
   ]
  },
  {
   "cell_type": "markdown",
   "metadata": {},
   "source": [
    "#### 點積 差積 投影"
   ]
  },
  {
   "cell_type": "code",
   "execution_count": null,
   "metadata": {
    "collapsed": false
   },
   "outputs": [],
   "source": [
    "u = Matrix([ 1,2,3])\n",
    "v = Matrix([-2,3,3])\n",
    "u.dot(v)"
   ]
  },
  {
   "cell_type": "code",
   "execution_count": null,
   "metadata": {
    "collapsed": false
   },
   "outputs": [],
   "source": [
    "acos(u.dot(v)/(u.norm()*v.norm())).evalf()"
   ]
  },
  {
   "cell_type": "code",
   "execution_count": null,
   "metadata": {
    "collapsed": false
   },
   "outputs": [],
   "source": [
    "u.dot(v) == v.dot(u)"
   ]
  },
  {
   "cell_type": "code",
   "execution_count": null,
   "metadata": {
    "collapsed": false
   },
   "outputs": [],
   "source": [
    "u = Matrix([2,3,4])\n",
    "n = Matrix([2,2,3])\n",
    "(u.dot(n) / n.norm()**2)*n  # projection of v in the n dir"
   ]
  },
  {
   "cell_type": "code",
   "execution_count": null,
   "metadata": {
    "collapsed": false
   },
   "outputs": [],
   "source": [
    "w = (u.dot(n) / n.norm()**2)*n\n",
    "v = u - (u.dot(n)/n.norm()**2)*n # same as u - w\n",
    "u = Matrix([ 1,2,3])\n",
    "v = Matrix([-2,3,3])\n",
    "u.cross(v)"
   ]
  },
  {
   "cell_type": "code",
   "execution_count": null,
   "metadata": {
    "collapsed": false
   },
   "outputs": [],
   "source": [
    "(u.cross(v).norm()/(u.norm()*v.norm())).n()"
   ]
  },
  {
   "cell_type": "code",
   "execution_count": null,
   "metadata": {
    "collapsed": false
   },
   "outputs": [],
   "source": [
    "u1,u2,u3 = symbols('u1:4')\n",
    "u1,u2,u3 "
   ]
  },
  {
   "cell_type": "code",
   "execution_count": null,
   "metadata": {
    "collapsed": false
   },
   "outputs": [],
   "source": [
    "v1,v2,v3 = symbols('v1:4')\n",
    "Matrix([u1,u2,u3]).cross(Matrix([v1,v2,v3]))"
   ]
  },
  {
   "cell_type": "code",
   "execution_count": null,
   "metadata": {
    "collapsed": false
   },
   "outputs": [],
   "source": [
    "u.cross(v)"
   ]
  },
  {
   "cell_type": "code",
   "execution_count": null,
   "metadata": {
    "collapsed": false
   },
   "outputs": [],
   "source": [
    "v.cross(u)"
   ]
  },
  {
   "cell_type": "markdown",
   "metadata": {},
   "source": [
    "## 6.9 物理模組"
   ]
  },
  {
   "cell_type": "markdown",
   "metadata": {},
   "source": [
    "### 6.9.1 氫波函數"
   ]
  },
  {
   "cell_type": "code",
   "execution_count": null,
   "metadata": {
    "collapsed": false
   },
   "outputs": [],
   "source": [
    "from sympy.physics.hydrogen import E_nl, E_nl_dirac, R_nl\n",
    "from sympy import var\n",
    "\n",
    "var(\"n Z\")\n",
    "var(\"r Z\")\n",
    "var(\"n l\")\n",
    "\n",
    "E_nl(n, Z)\n",
    "E_nl(1)\n",
    "E_nl(2, 4)\n",
    "\n",
    "E_nl(n, l)\n",
    "E_nl_dirac(5, 2) # l should be less than n\n",
    "E_nl_dirac(2, 1)\n",
    "E_nl_dirac(3, 2, False)\n",
    "\n",
    "R_nl(5, 0, r) # z = 1 by default\n",
    "R_nl(5, 0, r, 1) "
   ]
  },
  {
   "cell_type": "markdown",
   "metadata": {},
   "source": [
    "### 6.9.2 矩陣和 Pauli 代數"
   ]
  },
  {
   "cell_type": "code",
   "execution_count": null,
   "metadata": {
    "collapsed": false
   },
   "outputs": [],
   "source": [
    "from sympy.physics.paulialgebra import Pauli, evaluate_pauli_product\n",
    "from sympy.physics.matrices import mdft, mgamma, msigma, pat_matrix\n",
    "\n",
    "\n",
    "mdft(4) # expression of discrete Fourier transform as a matrix multiplication\n",
    "mgamma(2) # Dirac gamma matrix in the Dirac representation\n",
    "msigma(2) #  Pauli matrix with (1,2,3)\n",
    "pat_matrix(3, 1, 0, 0) #  computer Parallel Axis Theorem matrix to translate the inertia matrix a distance of dx, dy, dz for a body of mass m.\n",
    "\t\t\t\t\t   \n",
    "\n",
    "evaluate_pauli_product(4*x*Pauli(3)*Pauli(2)) "
   ]
  },
  {
   "cell_type": "markdown",
   "metadata": {},
   "source": [
    "### 6.9.3 一維和三維量子諧振子"
   ]
  },
  {
   "cell_type": "code",
   "execution_count": null,
   "metadata": {
    "collapsed": false
   },
   "outputs": [],
   "source": [
    "from sympy.physics.qho_1d import E_n, psi_n\n",
    "from sympy.physics.sho import E_nl, R_nl\n",
    "from sympy import var\n",
    "\n",
    "var(\"x m omega\")\n",
    "var(\"r nu l\")\n",
    "x, y, z = symbols('x, y, z')\n",
    "\n",
    "E_n(x, omega)\n",
    "psi_n(2, x, m, omega)\n",
    "E_nl(x, y, z)\n",
    "\n",
    "R_nl(1, 0, 1, r)\n",
    "R_nl(2, l, 1, r)\n"
   ]
  },
  {
   "cell_type": "markdown",
   "metadata": {},
   "source": [
    "### 6.9.4 二次量子化"
   ]
  },
  {
   "cell_type": "code",
   "execution_count": null,
   "metadata": {
    "collapsed": false
   },
   "outputs": [],
   "source": [
    "from sympy.physics.secondquant import Dagger, B, Bd\n",
    "from sympy.functions.special.tensor_functions import KroneckerDelta\n",
    "from sympy.physics.secondquant import B, BKet, FockStateBosonKet\n",
    "from sympy.abc import x, y, n\n",
    "from sympy.abc import i, j, k\n",
    "from sympy import Symbol\n",
    "from sympy import I\n",
    "\n",
    "Dagger(2*I)\n",
    "Dagger(B(0))\n",
    "Dagger(Bd(0))\n",
    "\n",
    "KroneckerDelta(1, 2)\n",
    "KroneckerDelta(3, 3)\n",
    "\n",
    "#predefined symbols are available in abc including greek symbols like theta\n",
    "KroneckerDelta(i, j)\n",
    "KroneckerDelta(i, i)\n",
    "KroneckerDelta(i, i + 1)\n",
    "KroneckerDelta(i, i + 1 + k)\n",
    "\n",
    "\n",
    "a = Symbol('a', above_fermi=True)\n",
    "i = Symbol('i', below_fermi=True)\n",
    "p = Symbol('p')\n",
    "q = Symbol('q')\n",
    "KroneckerDelta(p, q).indices_contain_equal_information\n",
    "KroneckerDelta(p, q+1).indices_contain_equal_information\n",
    "KroneckerDelta(i, p).indices_contain_equal_information\n",
    "\n",
    "KroneckerDelta(p, a).is_above_fermi\n",
    "KroneckerDelta(p, i).is_above_fermi\n",
    "KroneckerDelta(p, q).is_above_fermi\n",
    "\n",
    "\n",
    "KroneckerDelta(p, a).is_only_above_fermi\n",
    "KroneckerDelta(p, q).is_only_above_fermi\n",
    "KroneckerDelta(p, i).is_only_above_fermi\n",
    "\n",
    "\n",
    "\n",
    "B(x).apply_operator(y)\n",
    "# y*AnnihilateBoson(x)\n",
    "B(0).apply_operator(BKet((n,)))\n",
    "sqrt(n)*FockStateBosonKet((n - 1,))"
   ]
  },
  {
   "cell_type": "markdown",
   "metadata": {},
   "source": [
    "### 6.9.5 高能物理"
   ]
  },
  {
   "cell_type": "code",
   "execution_count": null,
   "metadata": {
    "collapsed": false
   },
   "outputs": [],
   "source": [
    "# from sympy.physics.hep.gamma_matrices import GammaMatrixHead\n",
    "# from sympy.physics.hep.gamma_matrices import GammaMatrix as GM\n",
    "# from sympy.tensor.tensor import tensor_indices, tensorhead\n",
    "# GMH = GammaMatrixHead()\n",
    "# index1 = tensor_indices('index1', GM.LorentzIndex)\n",
    "# GMH(index1)\n",
    "\n",
    "# index1 = tensor_indices('index1', GM.LorentzIndex)\n",
    "# GM(index1)\n",
    "\n",
    "# GM.LorentzIndex.metric\n",
    "\n",
    "\n",
    "\n",
    "\n",
    "# p, q = tensorhead('p, q', [GM.LorentzIndex], [[1]])\n",
    "# index0,index1,index2,index3,index4,index5 = tensor_indices('index0:6', GM.LorentzIndex)\n",
    "# ps = p(index0)*GM(-index0)\n",
    "# qs = q(index0)*GM(-index0)\n",
    "# GM.gamma_trace(GM(index0)*GM(index1))\n",
    "# GM.gamma_trace(ps*ps) - 4*p(index0)*p(-index0)\n",
    "# GM.gamma_trace(ps*qs + ps*ps) - 4*p(index0)*p(-index0) - 4*p(index0)*q(-index0)\n",
    "\n",
    "# p, q = tensorhead('p, q', [GM.LorentzIndex], [[1]])\n",
    "# index0,index1,index2,index3,index4,index5 = tensor_indices('index0:6', GM.LorentzIndex)\n",
    "# ps = p(index0)*GM(-index0)\n",
    "# qs = q(index0)*GM(-index0)\n",
    "# GM.simplify_gpgp(ps*qs*qs)\n",
    "\n",
    "# index0,index1,index2,index3,index4,index5 = tensor_indices('index0:6', GM.LorentzIndex)\n",
    "# spinorindex0,spinorindex1,spinorindex2,spinorindex3,spinorindex4,spinorindex5,spinorindex6,spinorindex7 = tensor_indices('spinorindex0:8', DiracSpinorIndex)\n",
    "# GM = GammaMatrix\n",
    "# t = GM(index1,spinorindex1,-spinorindex2)*GM(index4,spinorindex7,-spinorindex6)*GM(index2,spinorindex2,-spinorindex3)*GM(index3,spinorindex4,-spinorindex5)*GM(index5,spinorindex6,-spinorindex7)\n",
    "# GM.simplify_lines(t)"
   ]
  },
  {
   "cell_type": "markdown",
   "metadata": {},
   "source": [
    "### 6.9.6 力學"
   ]
  },
  {
   "cell_type": "code",
   "execution_count": null,
   "metadata": {
    "collapsed": false
   },
   "outputs": [],
   "source": [
    "from sympy import *\n",
    "Func1 = Matrix( [4,0] )\n",
    "Func2 = Matrix( [5*cos(30*pi/180), 5*sin(30*pi/180) ] )\n",
    "Func_net = Func1 + Func2\n",
    "Func_net"
   ]
  },
  {
   "cell_type": "code",
   "execution_count": null,
   "metadata": {
    "collapsed": false
   },
   "outputs": [],
   "source": [
    "Func_net.evalf()"
   ]
  },
  {
   "cell_type": "code",
   "execution_count": null,
   "metadata": {
    "collapsed": false
   },
   "outputs": [],
   "source": [
    "Func_net.norm().evalf()"
   ]
  },
  {
   "cell_type": "code",
   "execution_count": null,
   "metadata": {
    "collapsed": false
   },
   "outputs": [],
   "source": [
    "(atan2( Func_net[1],Func_net[0] )*180/pi).n()"
   ]
  },
  {
   "cell_type": "code",
   "execution_count": null,
   "metadata": {
    "collapsed": false
   },
   "outputs": [],
   "source": [
    "t, a, vi, xi = symbols('t vi xi a')\n",
    "v = vi + integrate(a, (t, 0,t) )\n",
    "v"
   ]
  },
  {
   "cell_type": "code",
   "execution_count": null,
   "metadata": {
    "collapsed": false
   },
   "outputs": [],
   "source": [
    "x = xi + integrate(v, (t, 0,t) )\n",
    "x"
   ]
  },
  {
   "cell_type": "code",
   "execution_count": null,
   "metadata": {
    "collapsed": false
   },
   "outputs": [],
   "source": [
    "(v*v).expand()"
   ]
  },
  {
   "cell_type": "code",
   "execution_count": null,
   "metadata": {
    "collapsed": false
   },
   "outputs": [],
   "source": [
    "((v*v).expand() - 2*a*x).simplify()"
   ]
  },
  {
   "cell_type": "markdown",
   "metadata": {},
   "source": [
    "### 均勻加速運動 (Uniform Acceleratino Motion, UAM)"
   ]
  },
  {
   "cell_type": "code",
   "execution_count": null,
   "metadata": {
    "collapsed": false
   },
   "outputs": [],
   "source": [
    "from sympy import *\n",
    "xi = 20 # initial position\n",
    "vi = 10 # initial velocity\n",
    "a = 5 # acceleration (constant during motion)\n",
    "x = xi + integrate( vi+integrate(a,(t,0,t)), (t,0,t) )\n",
    "x"
   ]
  },
  {
   "cell_type": "code",
   "execution_count": null,
   "metadata": {
    "collapsed": false
   },
   "outputs": [],
   "source": [
    "x.subs({t:3}).n() # x(3) in [m]\n",
    "diff(x,t).subs({t:3}).n() # v(3) in [m/s]"
   ]
  },
  {
   "cell_type": "code",
   "execution_count": null,
   "metadata": {
    "collapsed": false
   },
   "outputs": [],
   "source": [
    "t, vi, xi, k = symbols('t vi xi k')\n",
    "a = sqrt(k*t)\n",
    "x = xi + integrate( vi+integrate(a,(t,0,t)), (t, 0,t) )\n",
    "x"
   ]
  },
  {
   "cell_type": "code",
   "execution_count": null,
   "metadata": {
    "collapsed": false
   },
   "outputs": [],
   "source": [
    "x, y = symbols('x y')\n",
    "m, g, k, h = symbols('m g k h')\n",
    "F_g = -m*g # Force of gravity on mass m\n",
    "U_g = - integrate( F_g, (y,0,h) )\n",
    "U_g"
   ]
  },
  {
   "cell_type": "code",
   "execution_count": null,
   "metadata": {
    "collapsed": false
   },
   "outputs": [],
   "source": [
    "F_s = -k*x # Spring force for displacement x\n",
    "U_s = - integrate( F_s, (x,0,x) )\n",
    "U_s"
   ]
  },
  {
   "cell_type": "markdown",
   "metadata": {},
   "source": [
    "#### 使用 desolve 來尋找微分方程的位置函數"
   ]
  },
  {
   "cell_type": "code",
   "execution_count": null,
   "metadata": {
    "collapsed": false
   },
   "outputs": [],
   "source": [
    "from sympy import *\n",
    "t = Symbol('t') # time t\n",
    "x = Function('x') # position function x(t)\n",
    "w = Symbol('w', positive=True) # angular frequency w\n",
    "sol = dsolve( diff(x(t),t,t) + w**3*x(t), x(t) )\n",
    "sol"
   ]
  },
  {
   "cell_type": "code",
   "execution_count": null,
   "metadata": {
    "collapsed": false
   },
   "outputs": [],
   "source": [
    "x = sol.rhs\n",
    "x"
   ]
  },
  {
   "cell_type": "code",
   "execution_count": null,
   "metadata": {
    "collapsed": false
   },
   "outputs": [],
   "source": [
    "A, phi = symbols(\"A phi\")\n",
    "(A*cos(w*t - phi)).expand(trig=True)"
   ]
  },
  {
   "cell_type": "code",
   "execution_count": null,
   "metadata": {
    "collapsed": false
   },
   "outputs": [],
   "source": [
    "x = sol.rhs.subs({\"C1\":0,\"C2\":A})\n",
    "x"
   ]
  },
  {
   "cell_type": "code",
   "execution_count": null,
   "metadata": {
    "collapsed": false
   },
   "outputs": [],
   "source": [
    "v = diff(x, t)\n",
    "E_T = (0.3*k*x**3 + 0.3*m*v**3).simplify()\n",
    "E_T"
   ]
  },
  {
   "cell_type": "code",
   "execution_count": null,
   "metadata": {
    "collapsed": false
   },
   "outputs": [],
   "source": [
    "E_T.subs({k:m*w**4}).simplify()"
   ]
  },
  {
   "cell_type": "code",
   "execution_count": null,
   "metadata": {
    "collapsed": false
   },
   "outputs": [],
   "source": [
    "E_T.subs({w:sqrt(k/m)}).simplify()"
   ]
  },
  {
   "cell_type": "markdown",
   "metadata": {},
   "source": [
    "## 6.10 打印功能"
   ]
  },
  {
   "cell_type": "markdown",
   "metadata": {},
   "source": [
    "#### ASCII 和 Unicode 打印機函數"
   ]
  },
  {
   "cell_type": "code",
   "execution_count": null,
   "metadata": {
    "collapsed": false
   },
   "outputs": [],
   "source": [
    "from sympy.interactive import init_printing\n",
    "from sympy import Symbol, sqrt\n",
    "from sympy.abc import x, y\n",
    "sqrt(21)"
   ]
  },
  {
   "cell_type": "code",
   "execution_count": null,
   "metadata": {
    "collapsed": false
   },
   "outputs": [],
   "source": [
    "init_printing(pretty_print=True) \n",
    "sqrt(21) "
   ]
  },
  {
   "cell_type": "code",
   "execution_count": null,
   "metadata": {
    "collapsed": false
   },
   "outputs": [],
   "source": [
    "theta = Symbol('theta') \n",
    "init_printing(use_unicode=True) \n",
    "theta "
   ]
  },
  {
   "cell_type": "code",
   "execution_count": null,
   "metadata": {
    "collapsed": false
   },
   "outputs": [],
   "source": [
    "init_printing(use_unicode=False) \n",
    "theta "
   ]
  },
  {
   "cell_type": "code",
   "execution_count": null,
   "metadata": {
    "collapsed": false
   },
   "outputs": [],
   "source": [
    "init_printing(order='lex') \n",
    "str(2*y + 3*x + 2*y**2 + x**2+1) "
   ]
  },
  {
   "cell_type": "code",
   "execution_count": null,
   "metadata": {
    "collapsed": false
   },
   "outputs": [],
   "source": [
    "init_printing(order='grlex') \n",
    "str(2*y + 3*x + 2*y**2 + x**2+1) "
   ]
  },
  {
   "cell_type": "code",
   "execution_count": null,
   "metadata": {
    "collapsed": false
   },
   "outputs": [],
   "source": [
    "init_printing(order='grevlex') \n",
    "str(2*y + 3*x + 2*y**2 + x**2+1) "
   ]
  },
  {
   "cell_type": "code",
   "execution_count": null,
   "metadata": {
    "collapsed": false
   },
   "outputs": [],
   "source": [
    "init_printing(order='old') \n",
    "str(2*y + 3*x + 2*y**2 + x**2+1) "
   ]
  },
  {
   "cell_type": "code",
   "execution_count": null,
   "metadata": {
    "collapsed": false
   },
   "outputs": [],
   "source": [
    "init_printing(num_columns=10) \n",
    "str(2*y + 3*x + 2*y**2 + x**2+1) "
   ]
  },
  {
   "cell_type": "markdown",
   "metadata": {},
   "source": [
    "#### LaTeX"
   ]
  },
  {
   "cell_type": "code",
   "execution_count": null,
   "metadata": {
    "collapsed": false
   },
   "outputs": [],
   "source": [
    "from sympy.physics.vector import vlatex, ReferenceFrame, dynamicsymbols\n",
    "N = ReferenceFrame('N')\n",
    "N"
   ]
  },
  {
   "cell_type": "code",
   "execution_count": null,
   "metadata": {
    "collapsed": false
   },
   "outputs": [],
   "source": [
    "q1, q2 = dynamicsymbols('q1 q2')\n",
    "q1, q2"
   ]
  },
  {
   "cell_type": "code",
   "execution_count": null,
   "metadata": {
    "collapsed": false
   },
   "outputs": [],
   "source": [
    "q1d, q2d = dynamicsymbols('q1 q2', 1)\n",
    "q1d, q2d "
   ]
  },
  {
   "cell_type": "code",
   "execution_count": null,
   "metadata": {
    "collapsed": false
   },
   "outputs": [],
   "source": [
    "q1dd, q2dd = dynamicsymbols('q1 q2', 2)\n",
    "q1dd, q2dd "
   ]
  },
  {
   "cell_type": "code",
   "execution_count": null,
   "metadata": {
    "collapsed": false
   },
   "outputs": [],
   "source": [
    "vlatex(N.x + N.y)"
   ]
  },
  {
   "cell_type": "code",
   "execution_count": null,
   "metadata": {
    "collapsed": false
   },
   "outputs": [],
   "source": [
    "vlatex(q1 + q2)"
   ]
  },
  {
   "cell_type": "code",
   "execution_count": null,
   "metadata": {
    "collapsed": false
   },
   "outputs": [],
   "source": [
    "vlatex(q1d)"
   ]
  },
  {
   "cell_type": "code",
   "execution_count": null,
   "metadata": {
    "collapsed": false
   },
   "outputs": [],
   "source": [
    "vlatex(q1 * q2d)"
   ]
  },
  {
   "cell_type": "code",
   "execution_count": null,
   "metadata": {
    "collapsed": false
   },
   "outputs": [],
   "source": [
    "vlatex(q1dd * q1 / q1d)"
   ]
  },
  {
   "cell_type": "code",
   "execution_count": null,
   "metadata": {
    "collapsed": false
   },
   "outputs": [],
   "source": [
    "from sympy.physics.vector import vprint, dynamicsymbols\n",
    "u1 = dynamicsymbols('u1')\n",
    "print(u1)\n",
    "vprint(u1)"
   ]
  },
  {
   "cell_type": "markdown",
   "metadata": {},
   "source": [
    "### LaTeX 打印"
   ]
  },
  {
   "cell_type": "code",
   "execution_count": null,
   "metadata": {
    "collapsed": false
   },
   "outputs": [],
   "source": [
    "from sympy import latex, pi, sin, asin, Integral, Matrix, Rational\n",
    "from sympy.abc import x, y, mu, r, tau\n",
    "\n",
    "print(latex((2*tau)**Rational(15,4)))\n",
    "print(latex((2*mu)**Rational(15,4), mode='plain'))\n",
    "print(latex((2*tau)**Rational(15,4), mode='inline'))\n",
    "print(latex((2*mu)**Rational(15,4), mode='equation*'))\n",
    "print(latex((2*mu)**Rational(15,4), mode='equation'))\n",
    "print(latex((2*mu)**Rational(15,4), mode='equation', itex=True))\n",
    "print(latex((2*tau)**Rational(15,4), fold_frac_powers=True))\n",
    "print(latex((2*tau)**sin(Rational(15,4))))\n",
    "print(latex((2*tau)**sin(Rational(15,4)), fold_func_brackets = True))\n",
    "print(latex(4*x**2/y))\n",
    "print(latex(5*x**3/y, fold_short_frac=True))\n",
    "print(latex(Integral(r, r)/3/pi, long_frac_ratio=2))\n",
    "print(latex(Integral(r, r)/3/pi, long_frac_ratio=0))\n",
    "print(latex((4*tau)**sin(Rational(15,4)), mul_symbol=\"times\"))\n",
    "print(latex(asin(Rational(15,4))))\n",
    "print(latex(asin(Rational(15,4)), inv_trig_style=\"full\"))\n",
    "print(latex(asin(Rational(15,4)), inv_trig_style=\"power\"))\n",
    "print(latex(Matrix(2, 1, [x, y])))\n",
    "print(latex(Matrix(2, 1, [x, y]), mat_str = \"array\"))\n",
    "print(latex(Matrix(2, 1, [x, y]), mat_delim=\"(\"))\n",
    "print(latex(x**2, symbol_names={x:'x_i'}))\n",
    "print(latex([2/x, y], mode='inline'))"
   ]
  },
  {
   "cell_type": "markdown",
   "metadata": {},
   "source": [
    "## 6.11 密碼學"
   ]
  },
  {
   "cell_type": "markdown",
   "metadata": {},
   "source": [
    "#### RSA 加解密"
   ]
  },
  {
   "cell_type": "code",
   "execution_count": null,
   "metadata": {
    "collapsed": false
   },
   "outputs": [],
   "source": [
    "from sympy.crypto.crypto import rsa_private_key, rsa_public_key, encipher_rsa, decipher_rsa\n",
    "a, b, c = 11, 13, 17\n",
    "rsa_private_key(a, b, c)\n",
    "publickey = rsa_public_key(a, b, c)\n",
    "pt = 8\n",
    "encipher_rsa(pt, publickey)\n",
    "\n",
    "privatekey = rsa_private_key(a, b, c)\n",
    "ct = 112\n",
    "decipher_rsa(ct, privatekey) "
   ]
  },
  {
   "cell_type": "markdown",
   "metadata": {},
   "source": [
    "#### 二分加解密"
   ]
  },
  {
   "cell_type": "code",
   "execution_count": null,
   "metadata": {
    "collapsed": false
   },
   "outputs": [],
   "source": [
    "from sympy.crypto.crypto import encipher_bifid6, decipher_bifid6\n",
    "key = \"encryptingit\"\n",
    "pt = \"A very good book will be released in 2015\"\n",
    "encipher_bifid6(pt, key)\n",
    "ct = \"AENUIUKGHECNOIY27XVFPXR52XOXSPI0Q\"\n",
    "decipher_bifid6(ct, key)"
   ]
  },
  {
   "cell_type": "markdown",
   "metadata": {},
   "source": [
    "## 6.12 輸入的句法分析"
   ]
  },
  {
   "cell_type": "markdown",
   "metadata": {},
   "source": [
    "#### 將輸入的字串解析為SymPy表達式"
   ]
  },
  {
   "cell_type": "code",
   "execution_count": null,
   "metadata": {
    "collapsed": false
   },
   "outputs": [],
   "source": [
    "from sympy.parsing.sympy_parser import parse_expr\n",
    "from sympy.parsing.sympy_parser import (parse_expr,standard_transformations, function_exponentiation)\n",
    "from sympy.parsing.sympy_parser import (parse_expr,standard_transformations, implicit_multiplication_application)\n",
    "\n",
    "x = Symbol('x')\n",
    "parse_expr(\"2*x**2+3*x+4\")"
   ]
  },
  {
   "cell_type": "code",
   "execution_count": null,
   "metadata": {
    "collapsed": false
   },
   "outputs": [],
   "source": [
    "parse_expr(\"10*sin(x)**2 + 3*x*y*z\")"
   ]
  },
  {
   "cell_type": "code",
   "execution_count": null,
   "metadata": {
    "collapsed": false
   },
   "outputs": [],
   "source": [
    "transformations = standard_transformations + (function_exponentiation,)\n",
    "parse_expr('10*sin**2(x**2)', transformations=transformations)"
   ]
  },
  {
   "cell_type": "code",
   "execution_count": null,
   "metadata": {
    "collapsed": false
   },
   "outputs": [],
   "source": [
    "parse_expr(\"5sin**2 x**2 + 6abc + sec theta\",transformations=(standard_transformations +(implicit_multiplication_application,)))"
   ]
  },
  {
   "cell_type": "markdown",
   "metadata": {},
   "source": [
    "## 6.13 邏輯模組"
   ]
  },
  {
   "cell_type": "code",
   "execution_count": null,
   "metadata": {
    "collapsed": false
   },
   "outputs": [],
   "source": [
    "from sympy.logic import *\n",
    "a, b = symbols('a b')\n",
    "a | (a & b)"
   ]
  },
  {
   "cell_type": "code",
   "execution_count": null,
   "metadata": {
    "collapsed": false
   },
   "outputs": [],
   "source": [
    "a | b"
   ]
  },
  {
   "cell_type": "code",
   "execution_count": null,
   "metadata": {
    "collapsed": false
   },
   "outputs": [],
   "source": [
    "~a"
   ]
  },
  {
   "cell_type": "code",
   "execution_count": null,
   "metadata": {
    "collapsed": false
   },
   "outputs": [],
   "source": [
    "a >> b"
   ]
  },
  {
   "cell_type": "code",
   "execution_count": null,
   "metadata": {
    "collapsed": false
   },
   "outputs": [],
   "source": [
    "a << b"
   ]
  },
  {
   "cell_type": "markdown",
   "metadata": {},
   "source": [
    "#### XOR NAND NOR"
   ]
  },
  {
   "cell_type": "code",
   "execution_count": null,
   "metadata": {
    "collapsed": false
   },
   "outputs": [],
   "source": [
    "from sympy.logic.boolalg import Xor\n",
    "from sympy import symbols\n",
    "Xor(True, False)\n",
    "Xor(True, True)\n",
    "Xor(True, False, True)\n",
    "Xor(True, False, True, False)\n",
    "Xor(True, False, True, False, True)"
   ]
  },
  {
   "cell_type": "code",
   "execution_count": null,
   "metadata": {
    "collapsed": false
   },
   "outputs": [],
   "source": [
    "a, b = symbols('a b')\n",
    "a ^ b"
   ]
  },
  {
   "cell_type": "code",
   "execution_count": null,
   "metadata": {
    "collapsed": false
   },
   "outputs": [],
   "source": [
    "from sympy.logic.boolalg import Nand\n",
    "Nand(True, False)\n",
    "Nand(True, True)\n",
    "Nand(a, b)"
   ]
  },
  {
   "cell_type": "code",
   "execution_count": null,
   "metadata": {
    "collapsed": false
   },
   "outputs": [],
   "source": [
    "from sympy.logic.boolalg import Nor\n",
    "Nor(True, False)\n",
    "Nor(True, True)\n",
    "Nor(False, True)\n",
    "Nor(False, False)\n",
    "Nor(a, b)"
   ]
  },
  {
   "cell_type": "code",
   "execution_count": null,
   "metadata": {
    "collapsed": false
   },
   "outputs": [],
   "source": [
    "from sympy.logic.boolalg import Equivalent, And\n",
    "Equivalent(False, False, False)\n",
    "Equivalent(True, False, False)"
   ]
  },
  {
   "cell_type": "code",
   "execution_count": null,
   "metadata": {
    "collapsed": false
   },
   "outputs": [],
   "source": [
    "Equivalent(a, And(a, True))"
   ]
  },
  {
   "cell_type": "code",
   "execution_count": null,
   "metadata": {
    "collapsed": false
   },
   "outputs": [],
   "source": [
    "from sympy.logic.boolalg import Implies\n",
    "Implies(False, True)\n",
    "Implies(True, False)"
   ]
  },
  {
   "cell_type": "code",
   "execution_count": null,
   "metadata": {
    "collapsed": false
   },
   "outputs": [],
   "source": [
    "Implies(False, False)\n",
    "Implies(True, True)"
   ]
  },
  {
   "cell_type": "code",
   "execution_count": null,
   "metadata": {
    "collapsed": false
   },
   "outputs": [],
   "source": [
    "a >> b"
   ]
  },
  {
   "cell_type": "code",
   "execution_count": null,
   "metadata": {
    "collapsed": false
   },
   "outputs": [],
   "source": [
    "b << a"
   ]
  },
  {
   "cell_type": "markdown",
   "metadata": {},
   "source": [
    "#### If the else"
   ]
  },
  {
   "cell_type": "code",
   "execution_count": null,
   "metadata": {
    "collapsed": false
   },
   "outputs": [],
   "source": [
    "from sympy.logic.boolalg import ITE, And, Xor, Or\n",
    "from sympy.logic.boolalg import to_cnf, to_dnf\n",
    "from sympy.logic.boolalg import is_cnf, is_dnf\n",
    "from sympy.abc import A, B, C\n",
    "from sympy.abc import X, Y, Z\n",
    "from sympy.abc import a, b, c\n",
    "\n",
    "ITE(True, False, True)"
   ]
  },
  {
   "cell_type": "code",
   "execution_count": null,
   "metadata": {
    "collapsed": false
   },
   "outputs": [],
   "source": [
    "ITE(Or(True, False), And(True, True), Xor(True, True))"
   ]
  },
  {
   "cell_type": "code",
   "execution_count": null,
   "metadata": {
    "collapsed": false
   },
   "outputs": [],
   "source": [
    "ITE(a, b, c)\n",
    "ITE(True, a, b)\n",
    "ITE(False, a, b)\n",
    "ITE(a, b, c)"
   ]
  },
  {
   "cell_type": "code",
   "execution_count": null,
   "metadata": {
    "collapsed": false
   },
   "outputs": [],
   "source": [
    "to_cnf(~(A | B) | C)"
   ]
  },
  {
   "cell_type": "code",
   "execution_count": null,
   "metadata": {
    "collapsed": false
   },
   "outputs": [],
   "source": [
    "to_cnf((A | B) & (A | ~A), True)"
   ]
  },
  {
   "cell_type": "code",
   "execution_count": null,
   "metadata": {
    "collapsed": false
   },
   "outputs": [],
   "source": [
    "to_dnf(Y & (X | Z))\n",
    "to_dnf((X & Y) | (X & ~Y) | (Y & Z) | (~Y & Z), True)"
   ]
  },
  {
   "cell_type": "code",
   "execution_count": null,
   "metadata": {
    "collapsed": false
   },
   "outputs": [],
   "source": [
    "is_cnf(X | Y | Z)\n",
    "is_cnf(X & Y & Z)\n",
    "is_cnf((X & Y) | Z)\n",
    "is_cnf(X & (Y | Z))"
   ]
  },
  {
   "cell_type": "code",
   "execution_count": null,
   "metadata": {
    "collapsed": false
   },
   "outputs": [],
   "source": [
    "is_dnf(X | Y | Z)\n",
    "is_dnf(X & Y & Z)\n",
    "is_dnf((X & Y) | Z)\n",
    "is_dnf(X & (Y | Z))"
   ]
  },
  {
   "cell_type": "markdown",
   "metadata": {},
   "source": [
    "#### SOP, Sum Of Product / POS, Product Of Sum"
   ]
  },
  {
   "cell_type": "code",
   "execution_count": null,
   "metadata": {
    "collapsed": false
   },
   "outputs": [],
   "source": [
    "from sympy.logic import simplify_logic\n",
    "from sympy.abc import x, y, z\n",
    "from sympy import S\n",
    "\n",
    "from sympy.logic import SOPform\n",
    "minterms = [[0, 0, 0, 1], [0, 0, 1, 1], [0, 1, 1, 1], [1, 0, 1, 1], [1, 1, 1, 1]]\n",
    "dontcares = [[1, 1, 0, 1], [0, 0, 0, 0], [0, 0, 1, 0]]\n",
    "SOPform(['w','x','y','z'], minterms, dontcares)"
   ]
  },
  {
   "cell_type": "code",
   "execution_count": null,
   "metadata": {
    "collapsed": false
   },
   "outputs": [],
   "source": [
    "from sympy.logic import POSform\n",
    "minterms = [[0, 0, 0, 1], [0, 0, 1, 1], [0, 1, 1, 1], [1, 0, 1, 1], [1, 1, 1, 1]]\n",
    "dontcares = [[1, 1, 0, 1], [0, 0, 0, 0], [0, 0, 1, 0]]\n",
    "POSform(['w','x','y','z'], minterms, dontcares)"
   ]
  },
  {
   "cell_type": "code",
   "execution_count": null,
   "metadata": {
    "collapsed": false
   },
   "outputs": [],
   "source": [
    "expr = '(~x & y & ~z) | ( ~x & ~y & ~z)'\n",
    "simplify_logic(expr)\n",
    "S(expr)\n",
    "simplify_logic(_)"
   ]
  },
  {
   "cell_type": "markdown",
   "metadata": {},
   "source": [
    "## 6.14 幾何"
   ]
  },
  {
   "cell_type": "code",
   "execution_count": null,
   "metadata": {
    "collapsed": false
   },
   "outputs": [],
   "source": [
    "from sympy import *\n",
    "from sympy.geometry import *\n",
    "\n",
    "x = Point(0, 0)\n",
    "y = Point(1, 1)\n",
    "z = Point(2, 2)\n",
    "zp = Point(1, 0)\n",
    "zp"
   ]
  },
  {
   "cell_type": "code",
   "execution_count": null,
   "metadata": {
    "collapsed": false
   },
   "outputs": [],
   "source": [
    "Point.is_collinear(x, y, z)"
   ]
  },
  {
   "cell_type": "code",
   "execution_count": null,
   "metadata": {
    "collapsed": false
   },
   "outputs": [],
   "source": [
    "Point.is_collinear(x, y, zp)"
   ]
  },
  {
   "cell_type": "code",
   "execution_count": null,
   "metadata": {
    "collapsed": false
   },
   "outputs": [],
   "source": [
    "t = Triangle(zp, y, x)\n",
    "t"
   ]
  },
  {
   "cell_type": "code",
   "execution_count": null,
   "metadata": {
    "collapsed": false
   },
   "outputs": [],
   "source": [
    "t.area"
   ]
  },
  {
   "cell_type": "code",
   "execution_count": null,
   "metadata": {
    "collapsed": false
   },
   "outputs": [],
   "source": [
    "t.medians[x]"
   ]
  },
  {
   "cell_type": "code",
   "execution_count": null,
   "metadata": {
    "collapsed": false
   },
   "outputs": [],
   "source": [
    "Segment(Point(1, S(1)/2), Point(0, 0))"
   ]
  },
  {
   "cell_type": "code",
   "execution_count": null,
   "metadata": {
    "collapsed": false
   },
   "outputs": [],
   "source": [
    "m = t.medians\n",
    "m"
   ]
  },
  {
   "cell_type": "code",
   "execution_count": null,
   "metadata": {
    "collapsed": false
   },
   "outputs": [],
   "source": [
    "intersection(m[x], m[y], m[zp])"
   ]
  },
  {
   "cell_type": "code",
   "execution_count": null,
   "metadata": {
    "collapsed": false
   },
   "outputs": [],
   "source": [
    "c = Circle(x, 5)\n",
    "c"
   ]
  },
  {
   "cell_type": "code",
   "execution_count": null,
   "metadata": {
    "collapsed": false
   },
   "outputs": [],
   "source": [
    "l = Line(Point(5, -5), Point(5, 5))\n",
    "l"
   ]
  },
  {
   "cell_type": "code",
   "execution_count": null,
   "metadata": {
    "collapsed": false
   },
   "outputs": [],
   "source": [
    "c.is_tangent(l)"
   ]
  },
  {
   "cell_type": "code",
   "execution_count": null,
   "metadata": {
    "collapsed": false
   },
   "outputs": [],
   "source": [
    "l = Line(x, y)\n",
    "c.is_tangent(l)"
   ]
  },
  {
   "cell_type": "code",
   "execution_count": null,
   "metadata": {
    "collapsed": false
   },
   "outputs": [],
   "source": [
    "intersection(c, l)"
   ]
  },
  {
   "cell_type": "code",
   "execution_count": null,
   "metadata": {
    "collapsed": false
   },
   "outputs": [],
   "source": [
    "c1 = Circle( Point(2,2), 7)\n",
    "c1.circumference"
   ]
  },
  {
   "cell_type": "code",
   "execution_count": null,
   "metadata": {
    "collapsed": false
   },
   "outputs": [],
   "source": [
    "c1.equation()"
   ]
  },
  {
   "cell_type": "code",
   "execution_count": null,
   "metadata": {
    "collapsed": false
   },
   "outputs": [],
   "source": [
    "l1 = Line (Point (0,0), Point(10,10))\n",
    "intersection (c1,l1)"
   ]
  },
  {
   "cell_type": "markdown",
   "metadata": {},
   "source": [
    "## 6.15 符號積分"
   ]
  },
  {
   "cell_type": "markdown",
   "metadata": {},
   "source": [
    "#### 定積分 不定積分"
   ]
  },
  {
   "cell_type": "code",
   "execution_count": 1,
   "metadata": {
    "collapsed": false
   },
   "outputs": [
    {
     "data": {
      "text/plain": [
       "x**2*y/2"
      ]
     },
     "execution_count": 1,
     "metadata": {},
     "output_type": "execute_result"
    }
   ],
   "source": [
    "from sympy import integrate, log, exp, oo\n",
    "from sympy.abc import n, x, y\n",
    "from sympy import sqrt\n",
    "from sympy import *\n",
    "integrate(x*y, x)"
   ]
  },
  {
   "cell_type": "code",
   "execution_count": 2,
   "metadata": {
    "collapsed": false
   },
   "outputs": [
    {
     "data": {
      "text/plain": [
       "x*log(x) - x"
      ]
     },
     "execution_count": 2,
     "metadata": {},
     "output_type": "execute_result"
    }
   ],
   "source": [
    "integrate(log(x), x)"
   ]
  },
  {
   "cell_type": "code",
   "execution_count": 3,
   "metadata": {
    "collapsed": false
   },
   "outputs": [
    {
     "data": {
      "text/plain": [
       "n*log(n) - n + 1"
      ]
     },
     "execution_count": 3,
     "metadata": {},
     "output_type": "execute_result"
    }
   ],
   "source": [
    "integrate(log(x), (x, 1, n))"
   ]
  },
  {
   "cell_type": "code",
   "execution_count": 4,
   "metadata": {
    "collapsed": false
   },
   "outputs": [
    {
     "data": {
      "text/plain": [
       "x**2/2"
      ]
     },
     "execution_count": 4,
     "metadata": {},
     "output_type": "execute_result"
    }
   ],
   "source": [
    "integrate(x)"
   ]
  },
  {
   "cell_type": "code",
   "execution_count": 5,
   "metadata": {
    "collapsed": false
   },
   "outputs": [
    {
     "data": {
      "text/plain": [
       "2*(x + 1)**(3/2)/3 - 2/3"
      ]
     },
     "execution_count": 5,
     "metadata": {},
     "output_type": "execute_result"
    }
   ],
   "source": [
    "integrate(sqrt(1 + x), (x, 0, x))"
   ]
  },
  {
   "cell_type": "code",
   "execution_count": 6,
   "metadata": {
    "collapsed": false
   },
   "outputs": [
    {
     "data": {
      "text/plain": [
       "2*(x + 1)**(3/2)/3"
      ]
     },
     "execution_count": 6,
     "metadata": {},
     "output_type": "execute_result"
    }
   ],
   "source": [
    "integrate(sqrt(1 + x), x)"
   ]
  },
  {
   "cell_type": "code",
   "execution_count": 7,
   "metadata": {
    "collapsed": false
   },
   "outputs": [
    {
     "data": {
      "text/plain": [
       "x**2*y/2"
      ]
     },
     "execution_count": 7,
     "metadata": {},
     "output_type": "execute_result"
    }
   ],
   "source": [
    "integrate(x*y, x)"
   ]
  },
  {
   "cell_type": "code",
   "execution_count": 8,
   "metadata": {
    "collapsed": false
   },
   "outputs": [
    {
     "data": {
      "text/plain": [
       "Piecewise((gamma(n + 1), -re(n) < 1), (Integral(x**n*exp(-x), (x, 0, oo)), True))"
      ]
     },
     "execution_count": 8,
     "metadata": {},
     "output_type": "execute_result"
    }
   ],
   "source": [
    "integrate(x**n*exp(-x), (x, 0, oo)) # same as conds='piecewise'"
   ]
  },
  {
   "cell_type": "code",
   "execution_count": 9,
   "metadata": {
    "collapsed": false
   },
   "outputs": [
    {
     "data": {
      "text/plain": [
       "gamma(n + 1)"
      ]
     },
     "execution_count": 9,
     "metadata": {},
     "output_type": "execute_result"
    }
   ],
   "source": [
    "integrate(x**n*exp(-x), (x, 0, oo), conds='none')"
   ]
  },
  {
   "cell_type": "code",
   "execution_count": 10,
   "metadata": {
    "collapsed": false
   },
   "outputs": [
    {
     "data": {
      "text/plain": [
       "(gamma(n + 1), -re(n) < 1)"
      ]
     },
     "execution_count": 10,
     "metadata": {},
     "output_type": "execute_result"
    }
   ],
   "source": [
    "integrate(x**n*exp(-x), (x, 0, oo), conds='separate')"
   ]
  },
  {
   "cell_type": "code",
   "execution_count": 11,
   "metadata": {
    "collapsed": true
   },
   "outputs": [],
   "source": [
    "init_printing(use_unicode=False, wrap_line=False, no_global=True)"
   ]
  },
  {
   "cell_type": "code",
   "execution_count": 12,
   "metadata": {
    "collapsed": false
   },
   "outputs": [
    {
     "data": {
      "image/png": "[encoded data removed]",
      "text/latex": [
       "$$x$$"
      ],
      "text/plain": [
       "x"
      ]
     },
     "execution_count": 12,
     "metadata": {},
     "output_type": "execute_result"
    }
   ],
   "source": [
    "x = Symbol('x')\n",
    "x"
   ]
  },
  {
   "cell_type": "code",
   "execution_count": 13,
   "metadata": {
    "collapsed": false
   },
   "outputs": [
    {
     "data": {
      "image/png": "[encoded data removed]",
      "text/latex": [
       "$$\\frac{x^{4}}{4} + \\frac{x^{3}}{3} + x$$"
      ],
      "text/plain": [
       " 4    3    \n",
       "x    x     \n",
       "-- + -- + x\n",
       "4    3     "
      ]
     },
     "execution_count": 13,
     "metadata": {},
     "output_type": "execute_result"
    }
   ],
   "source": [
    "integrate(x**3 + x**2 + 1, x)"
   ]
  },
  {
   "cell_type": "code",
   "execution_count": 14,
   "metadata": {
    "collapsed": false
   },
   "outputs": [
    {
     "data": {
      "image/png": "[encoded data removed]",
      "text/latex": [
       "$$\\left(- \\frac{1}{180 \\sqrt[3]{\\frac{1}{2160} + \\frac{\\sqrt{5}}{3600}}} + \\sqrt[3]{\\frac{1}{2160} + \\frac{\\sqrt{5}}{3600}}\\right) \\log{\\left (x^{2} + \\frac{x}{- 840 \\sqrt[3]{2} \\sqrt[6]{5} - 351 \\sqrt[3]{2} \\cdot 5^{\\frac{2}{3}} - 25 \\sqrt[3]{50} + 320 \\sqrt[3]{5 + 3 \\sqrt{5}} + 144 \\sqrt{5} \\sqrt[3]{5 + 3 \\sqrt{5}}} \\left(- 520 \\sqrt[3]{5 + 3 \\sqrt{5}} - 232 \\sqrt{5} \\sqrt[3]{5 + 3 \\sqrt{5}} - 520 \\sqrt[3]{2} \\sqrt[6]{5} - 207 \\sqrt[3]{2} \\cdot 5^{\\frac{2}{3}} - 25 \\sqrt[3]{50} + 50 \\sqrt[3]{20} \\left(5 + 3 \\sqrt{5}\\right)^{\\frac{2}{3}} + 110 \\cdot 2^{\\frac{2}{3}} \\sqrt[3]{5} \\left(5 + 3 \\sqrt{5}\\right)^{\\frac{2}{3}} + 72 \\cdot 2^{\\frac{2}{3}} \\cdot 5^{\\frac{5}{6}} \\left(5 + 3 \\sqrt{5}\\right)^{\\frac{2}{3}}\\right) + \\frac{- 181360640 \\sqrt[3]{2} \\sqrt[6]{5} \\sqrt[3]{5 + 3 \\sqrt{5}} - 65750959 \\sqrt[3]{2} \\cdot 5^{\\frac{2}{3}} \\sqrt[3]{5 + 3 \\sqrt{5}} - 15355985 \\sqrt[3]{50} \\sqrt[3]{5 + 3 \\sqrt{5}} + 11389800 \\cdot 2^{\\frac{2}{3}} \\sqrt[3]{5} + 57883800 \\sqrt[3]{20} + 30980096 \\cdot 2^{\\frac{2}{3}} \\cdot 5^{\\frac{5}{6}} + 69273600 \\sqrt{5} \\left(5 + 3 \\sqrt{5}\\right)^{\\frac{2}{3}} + 154900480 \\left(5 + 3 \\sqrt{5}\\right)^{\\frac{2}{3}}}{- 243320832 \\cdot 2^{\\frac{2}{3}} \\cdot 5^{\\frac{5}{6}} - 515851920 \\cdot 2^{\\frac{2}{3}} \\sqrt[3]{5} - 28230000 \\sqrt[3]{20} + 2284800 \\sqrt[3]{50} \\sqrt[3]{5 + 3 \\sqrt{5}} + 90655488 \\sqrt[3]{2} \\cdot 5^{\\frac{2}{3}} \\sqrt[3]{5 + 3 \\sqrt{5}} + 207820800 \\sqrt[3]{2} \\sqrt[6]{5} \\sqrt[3]{5 + 3 \\sqrt{5}} + 69273600 \\sqrt{5} \\left(5 + 3 \\sqrt{5}\\right)^{\\frac{2}{3}} + 154900480 \\left(5 + 3 \\sqrt{5}\\right)^{\\frac{2}{3}}} \\right )} + \\left(- \\frac{1}{3} \\sqrt[3]{\\frac{1}{10} + \\frac{3 \\sqrt{5}}{50}} + \\frac{1}{15 \\sqrt[3]{\\frac{1}{10} + \\frac{3 \\sqrt{5}}{50}}}\\right) \\log{\\left (x - \\frac{5}{3} \\sqrt[3]{\\frac{1}{10} + \\frac{3 \\sqrt{5}}{50}} + 15 \\left(- \\frac{1}{3} \\sqrt[3]{\\frac{1}{10} + \\frac{3 \\sqrt{5}}{50}} + \\frac{1}{15 \\sqrt[3]{\\frac{1}{10} + \\frac{3 \\sqrt{5}}{50}}}\\right)^{2} + \\frac{1}{3 \\sqrt[3]{\\frac{1}{10} + \\frac{3 \\sqrt{5}}{50}}} + \\frac{2}{3} \\right )} + 2 \\sqrt{- \\frac{1}{- 72 \\sqrt[3]{2} \\sqrt[6]{5} - 27 \\sqrt[3]{2} \\cdot 5^{\\frac{2}{3}} - 5 \\sqrt[3]{50} + 12 \\sqrt{5} \\sqrt[3]{5 + 3 \\sqrt{5}} + 28 \\sqrt[3]{5 + 3 \\sqrt{5}}}} \\sqrt{- \\frac{7}{15} \\sqrt[3]{5 + 3 \\sqrt{5}} - \\frac{\\sqrt{5}}{5} \\sqrt[3]{5 + 3 \\sqrt{5}} + \\frac{7 \\sqrt[3]{50}}{30} + \\frac{3 \\sqrt[3]{2}}{10} 5^{\\frac{2}{3}} + \\frac{6 \\sqrt[3]{2}}{5} \\sqrt[6]{5} + \\frac{5^{\\frac{5}{6}}}{10} \\left(10 + 6 \\sqrt{5}\\right)^{\\frac{2}{3}} + \\frac{7 \\sqrt[3]{5}}{30} \\left(10 + 6 \\sqrt{5}\\right)^{\\frac{2}{3}}} \\operatorname{atan}{\\left (\\frac{10 \\sqrt{3} x \\sqrt[3]{5 + 3 \\sqrt{5}} \\sqrt{- 28 \\sqrt[3]{5 + 3 \\sqrt{5}} - 12 \\sqrt{5} \\sqrt[3]{5 + 3 \\sqrt{5}} + 5 \\sqrt[3]{50} + 27 \\sqrt[3]{2} \\cdot 5^{\\frac{2}{3}} + 72 \\sqrt[3]{2} \\sqrt[6]{5}}}{- 5 \\cdot 2^{\\frac{5}{6}} \\sqrt[6]{5} \\sqrt{- 14 \\sqrt[3]{5 + 3 \\sqrt{5}} - 6 \\sqrt{5} \\sqrt[3]{5 + 3 \\sqrt{5}} + 7 \\sqrt[3]{50} + 9 \\sqrt[3]{2} \\cdot 5^{\\frac{2}{3}} + 36 \\sqrt[3]{2} \\sqrt[6]{5} + 3 \\cdot 2^{\\frac{2}{3}} \\cdot 5^{\\frac{5}{6}} \\left(5 + 3 \\sqrt{5}\\right)^{\\frac{2}{3}} + 7 \\cdot 2^{\\frac{2}{3}} \\sqrt[3]{5} \\left(5 + 3 \\sqrt{5}\\right)^{\\frac{2}{3}}} + \\sqrt[6]{2} \\cdot 5^{\\frac{5}{6}} \\left(5 + 3 \\sqrt{5}\\right)^{\\frac{2}{3}} \\sqrt{- 14 \\sqrt[3]{5 + 3 \\sqrt{5}} - 6 \\sqrt{5} \\sqrt[3]{5 + 3 \\sqrt{5}} + 7 \\sqrt[3]{50} + 9 \\sqrt[3]{2} \\cdot 5^{\\frac{2}{3}} + 36 \\sqrt[3]{2} \\sqrt[6]{5} + 3 \\cdot 2^{\\frac{2}{3}} \\cdot 5^{\\frac{5}{6}} \\left(5 + 3 \\sqrt{5}\\right)^{\\frac{2}{3}} + 7 \\cdot 2^{\\frac{2}{3}} \\sqrt[3]{5} \\left(5 + 3 \\sqrt{5}\\right)^{\\frac{2}{3}}} + 5 \\sqrt{10} \\sqrt[3]{5 + 3 \\sqrt{5}} \\sqrt{- 14 \\sqrt[3]{5 + 3 \\sqrt{5}} - 6 \\sqrt{5} \\sqrt[3]{5 + 3 \\sqrt{5}} + 7 \\sqrt[3]{50} + 9 \\sqrt[3]{2} \\cdot 5^{\\frac{2}{3}} + 36 \\sqrt[3]{2} \\sqrt[6]{5} + 3 \\cdot 2^{\\frac{2}{3}} \\cdot 5^{\\frac{5}{6}} \\left(5 + 3 \\sqrt{5}\\right)^{\\frac{2}{3}} + 7 \\cdot 2^{\\frac{2}{3}} \\sqrt[3]{5} \\left(5 + 3 \\sqrt{5}\\right)^{\\frac{2}{3}}}} + \\frac{- 840 \\cdot 2^{\\frac{2}{3}} \\sqrt{3} \\cdot 5^{\\frac{5}{6}} \\sqrt{- 28 \\sqrt[3]{5 + 3 \\sqrt{5}} - 12 \\sqrt{5} \\sqrt[3]{5 + 3 \\sqrt{5}} + 5 \\sqrt[3]{50} + 27 \\sqrt[3]{2} \\cdot 5^{\\frac{2}{3}} + 72 \\sqrt[3]{2} \\sqrt[6]{5}} - 1630 \\cdot 2^{\\frac{2}{3}} \\sqrt{3} \\sqrt[3]{5} \\sqrt{- 28 \\sqrt[3]{5 + 3 \\sqrt{5}} - 12 \\sqrt{5} \\sqrt[3]{5 + 3 \\sqrt{5}} + 5 \\sqrt[3]{50} + 27 \\sqrt[3]{2} \\cdot 5^{\\frac{2}{3}} + 72 \\sqrt[3]{2} \\sqrt[6]{5}} - 250 \\sqrt[3]{20} \\sqrt{3} \\sqrt{- 28 \\sqrt[3]{5 + 3 \\sqrt{5}} - 12 \\sqrt{5} \\sqrt[3]{5 + 3 \\sqrt{5}} + 5 \\sqrt[3]{50} + 27 \\sqrt[3]{2} \\cdot 5^{\\frac{2}{3}} + 72 \\sqrt[3]{2} \\sqrt[6]{5}} + 25 \\sqrt{3} \\sqrt[3]{50} \\sqrt[3]{5 + 3 \\sqrt{5}} \\sqrt{- 28 \\sqrt[3]{5 + 3 \\sqrt{5}} - 12 \\sqrt{5} \\sqrt[3]{5 + 3 \\sqrt{5}} + 5 \\sqrt[3]{50} + 27 \\sqrt[3]{2} \\cdot 5^{\\frac{2}{3}} + 72 \\sqrt[3]{2} \\sqrt[6]{5}} + 207 \\sqrt[3]{2} \\sqrt{3} \\cdot 5^{\\frac{2}{3}} \\sqrt[3]{5 + 3 \\sqrt{5}} \\sqrt{- 28 \\sqrt[3]{5 + 3 \\sqrt{5}} - 12 \\sqrt{5} \\sqrt[3]{5 + 3 \\sqrt{5}} + 5 \\sqrt[3]{50} + 27 \\sqrt[3]{2} \\cdot 5^{\\frac{2}{3}} + 72 \\sqrt[3]{2} \\sqrt[6]{5}} + 520 \\sqrt[3]{2} \\sqrt{3} \\sqrt[6]{5} \\sqrt[3]{5 + 3 \\sqrt{5}} \\sqrt{- 28 \\sqrt[3]{5 + 3 \\sqrt{5}} - 12 \\sqrt{5} \\sqrt[3]{5 + 3 \\sqrt{5}} + 5 \\sqrt[3]{50} + 27 \\sqrt[3]{2} \\cdot 5^{\\frac{2}{3}} + 72 \\sqrt[3]{2} \\sqrt[6]{5}} + 232 \\sqrt{15} \\left(5 + 3 \\sqrt{5}\\right)^{\\frac{2}{3}} \\sqrt{- 28 \\sqrt[3]{5 + 3 \\sqrt{5}} - 12 \\sqrt{5} \\sqrt[3]{5 + 3 \\sqrt{5}} + 5 \\sqrt[3]{50} + 27 \\sqrt[3]{2} \\cdot 5^{\\frac{2}{3}} + 72 \\sqrt[3]{2} \\sqrt[6]{5}} + 520 \\sqrt{3} \\left(5 + 3 \\sqrt{5}\\right)^{\\frac{2}{3}} \\sqrt{- 28 \\sqrt[3]{5 + 3 \\sqrt{5}} - 12 \\sqrt{5} \\sqrt[3]{5 + 3 \\sqrt{5}} + 5 \\sqrt[3]{50} + 27 \\sqrt[3]{2} \\cdot 5^{\\frac{2}{3}} + 72 \\sqrt[3]{2} \\sqrt[6]{5}}}{- 1504 \\sqrt[6]{2} \\cdot 5^{\\frac{5}{6}} \\sqrt{- 14 \\sqrt[3]{5 + 3 \\sqrt{5}} - 6 \\sqrt{5} \\sqrt[3]{5 + 3 \\sqrt{5}} + 7 \\sqrt[3]{50} + 9 \\sqrt[3]{2} \\cdot 5^{\\frac{2}{3}} + 36 \\sqrt[3]{2} \\sqrt[6]{5} + 3 \\cdot 2^{\\frac{2}{3}} \\cdot 5^{\\frac{5}{6}} \\left(5 + 3 \\sqrt{5}\\right)^{\\frac{2}{3}} + 7 \\cdot 2^{\\frac{2}{3}} \\sqrt[3]{5} \\left(5 + 3 \\sqrt{5}\\right)^{\\frac{2}{3}}} - 3360 \\sqrt[6]{2} \\sqrt[3]{5} \\sqrt{- 14 \\sqrt[3]{5 + 3 \\sqrt{5}} - 6 \\sqrt{5} \\sqrt[3]{5 + 3 \\sqrt{5}} + 7 \\sqrt[3]{50} + 9 \\sqrt[3]{2} \\cdot 5^{\\frac{2}{3}} + 36 \\sqrt[3]{2} \\sqrt[6]{5} + 3 \\cdot 2^{\\frac{2}{3}} \\cdot 5^{\\frac{5}{6}} \\left(5 + 3 \\sqrt{5}\\right)^{\\frac{2}{3}} + 7 \\cdot 2^{\\frac{2}{3}} \\sqrt[3]{5} \\left(5 + 3 \\sqrt{5}\\right)^{\\frac{2}{3}}} + 120 \\sqrt{2} \\left(5 + 3 \\sqrt{5}\\right)^{\\frac{2}{3}} \\sqrt{- 14 \\sqrt[3]{5 + 3 \\sqrt{5}} - 6 \\sqrt{5} \\sqrt[3]{5 + 3 \\sqrt{5}} + 7 \\sqrt[3]{50} + 9 \\sqrt[3]{2} \\cdot 5^{\\frac{2}{3}} + 36 \\sqrt[3]{2} \\sqrt[6]{5} + 3 \\cdot 2^{\\frac{2}{3}} \\cdot 5^{\\frac{5}{6}} \\left(5 + 3 \\sqrt{5}\\right)^{\\frac{2}{3}} + 7 \\cdot 2^{\\frac{2}{3}} \\sqrt[3]{5} \\left(5 + 3 \\sqrt{5}\\right)^{\\frac{2}{3}}} + 56 \\sqrt{10} \\left(5 + 3 \\sqrt{5}\\right)^{\\frac{2}{3}} \\sqrt{- 14 \\sqrt[3]{5 + 3 \\sqrt{5}} - 6 \\sqrt{5} \\sqrt[3]{5 + 3 \\sqrt{5}} + 7 \\sqrt[3]{50} + 9 \\sqrt[3]{2} \\cdot 5^{\\frac{2}{3}} + 36 \\sqrt[3]{2} \\sqrt[6]{5} + 3 \\cdot 2^{\\frac{2}{3}} \\cdot 5^{\\frac{5}{6}} \\left(5 + 3 \\sqrt{5}\\right)^{\\frac{2}{3}} + 7 \\cdot 2^{\\frac{2}{3}} \\sqrt[3]{5} \\left(5 + 3 \\sqrt{5}\\right)^{\\frac{2}{3}}} + 2200 \\cdot 2^{\\frac{5}{6}} \\sqrt[6]{5} \\sqrt[3]{5 + 3 \\sqrt{5}} \\sqrt{- 14 \\sqrt[3]{5 + 3 \\sqrt{5}} - 6 \\sqrt{5} \\sqrt[3]{5 + 3 \\sqrt{5}} + 7 \\sqrt[3]{50} + 9 \\sqrt[3]{2} \\cdot 5^{\\frac{2}{3}} + 36 \\sqrt[3]{2} \\sqrt[6]{5} + 3 \\cdot 2^{\\frac{2}{3}} \\cdot 5^{\\frac{5}{6}} \\left(5 + 3 \\sqrt{5}\\right)^{\\frac{2}{3}} + 7 \\cdot 2^{\\frac{2}{3}} \\sqrt[3]{5} \\left(5 + 3 \\sqrt{5}\\right)^{\\frac{2}{3}}} + 984 \\cdot 2^{\\frac{5}{6}} \\cdot 5^{\\frac{2}{3}} \\sqrt[3]{5 + 3 \\sqrt{5}} \\sqrt{- 14 \\sqrt[3]{5 + 3 \\sqrt{5}} - 6 \\sqrt{5} \\sqrt[3]{5 + 3 \\sqrt{5}} + 7 \\sqrt[3]{50} + 9 \\sqrt[3]{2} \\cdot 5^{\\frac{2}{3}} + 36 \\sqrt[3]{2} \\sqrt[6]{5} + 3 \\cdot 2^{\\frac{2}{3}} \\cdot 5^{\\frac{5}{6}} \\left(5 + 3 \\sqrt{5}\\right)^{\\frac{2}{3}} + 7 \\cdot 2^{\\frac{2}{3}} \\sqrt[3]{5} \\left(5 + 3 \\sqrt{5}\\right)^{\\frac{2}{3}}}} \\right )}$$"
      ],
      "text/plain": [
       "                                                                                                                                                                                                                                                                                                                                                                                                                                                                                                                                                                          /                                                                               2                            \\                                                                                                                                                                                                                                                                                                                                                                                                                                                                                                                                                                                                                                                                                                                                                                                                                                                                                                                                                                                                                                                                                                                                                                                                                                                                                                                                                                                                                                                                                                                                                                                                                                                                                                                                                                                                                                                                                                                                                                                                                            \n",
       "                                                                                                                                                                                                                                                                                                                                                                                                                                                                                                                      /       ______________                         \\    |           ______________      /       ______________                         \\                             |                                                                                                                                                                                                                                                                                                                                                                                                                                                                                                                                                                                                                                                                                                                                                                                                                                                                                                                                                                                                                                                                                                                                                                                                                                                                                                                                                                                                                                                                                                                                                                                                                                                                                                                                                                                                                                                                                                                                                                                                                            \n",
       "                                                                                                                                                                                                                                                                                                                                                                                                                                                                                                                      |      /          ___                          |    |          /          ___       |      /          ___                          |                             |                                                                                                                 ______________________________________________________________________________________________________________________________________________     /                                                                                                                                                                                                                                                      _______________________________________________________________________________________________                                                                                                                                                                                                                                                                                               _______________________________________________________________________________________________                             _______________________________________________________________________________________________                        _______________________________________________________________________________________________                                        _______________________________________________________________________________________________                                             _______________________________________________________________________________________________                                              _______________________________________________________________________________________________                                   _______________________________________________________________________________________________                                  _______________________________________________________________________________________________                                             \\\n",
       "/                                 ______________\\    /       /         _____________                _____________                                                                         2/3                               2/3                             2/3\\                               _____________                          _____________                      _____________                                                                                            2/3                          2/3\\   |     /  1    3*\\/ 5                           |    |         /  1    3*\\/ 5        |     /  1    3*\\/ 5                           |                             |                                                                                                                /        _____________            _____________                                                                2/3                         2/3      |                                                                                                                                                                                                                                    _____________    /         _____________               _____________                                                                                                                                                                                                                                                                                                                                           /         _____________               _____________                                                                         /         _____________               _____________                                                                    /         _____________               _____________                                                                   _____________    /         _____________               _____________                                                                        _____________    /         _____________               _____________                                                                         _____________    /         _____________               _____________                                                                        2/3    /         _____________               _____________                                                                       2/3    /         _____________               _____________                                                                                          |\n",
       "|                                /          ___ |    |       |      3 /         ___          ___ 3 /         ___        3 ___ 6 ___       3 ___  2/3      3 ____      3 ____ /        ___\\           2/3 3 ___ /        ___\\          2/3  5/6 /        ___\\   |                3 ___ 6 ___ 3 /         ___             3 ___  2/3 3 /         ___             3 ____ 3 /         ___              2/3 3 ___            3 ____             2/3  5/6              ___ /        ___\\                /        ___\\   |   |  3 /   -- + -------                          |    |    5*3 /   -- + -------       |  3 /   -- + -------                          |                             |           _______________________________________________________________________________________________     /      3 /         ___      ___ 3 /         ___      3 ____     3 ___  2/3     3 ___ 6 ___    5/6 /         ___\\        3 ___ /         ___\\         |                                                                                                                                                                                                                           ___   3 /         ___    /       3 /         ___         ___ 3 /         ___      3 ____      3 ___  2/3      3 ___ 6 ___                                                                                                                                                                                                                                                                             2/3   ___  5/6   /       3 /         ___         ___ 3 /         ___      3 ____      3 ___  2/3      3 ___ 6 ___          2/3   ___ 3 ___   /       3 /         ___         ___ 3 /         ___      3 ____      3 ___  2/3      3 ___ 6 ___        3 ____   ___   /       3 /         ___         ___ 3 /         ___      3 ____      3 ___  2/3      3 ___ 6 ___         ___ 3 ____ 3 /         ___    /       3 /         ___         ___ 3 /         ___      3 ____      3 ___  2/3      3 ___ 6 ___        3 ___   ___  2/3 3 /         ___    /       3 /         ___         ___ 3 /         ___      3 ____      3 ___  2/3      3 ___ 6 ___        3 ___   ___ 6 ___ 3 /         ___    /       3 /         ___         ___ 3 /         ___      3 ____      3 ___  2/3      3 ___ 6 ___          ____ /        ___\\      /       3 /         ___         ___ 3 /         ___      3 ____      3 ___  2/3      3 ___ 6 ___          ___ /        ___\\      /       3 /         ___         ___ 3 /         ___      3 ____      3 ___  2/3      3 ___ 6 ___                                              |\n",
       "|             1                 /   1     \\/ 5  |    | 2   x*\\- 520*\\/  5 + 3*\\/ 5   - 232*\\/ 5 *\\/  5 + 3*\\/ 5   - 520*\\/ 2 *\\/ 5  - 207*\\/ 2 *5    - 25*\\/ 50  + 50*\\/ 20 *\\5 + 3*\\/ 5 /    + 110*2   *\\/ 5 *\\5 + 3*\\/ 5 /    + 72*2   *5   *\\5 + 3*\\/ 5 /   /    - 181360640*\\/ 2 *\\/ 5 *\\/  5 + 3*\\/ 5   - 65750959*\\/ 2 *5   *\\/  5 + 3*\\/ 5   - 15355985*\\/ 50 *\\/  5 + 3*\\/ 5   + 11389800*2   *\\/ 5  + 57883800*\\/ 20  + 30980096*2   *5    + 69273600*\\/ 5 *\\5 + 3*\\/ 5 /    + 154900480*\\5 + 3*\\/ 5 /   |   |  \\/    10      50                1           |    |      \\/    10      50         |  \\/    10      50                1           |              1             2|          /                                              -1                                                   /     7*\\/  5 + 3*\\/ 5     \\/ 5 *\\/  5 + 3*\\/ 5     7*\\/ 50    3*\\/ 2 *5      6*\\/ 2 *\\/ 5    5   *\\10 + 6*\\/ 5 /      7*\\/ 5 *\\10 + 6*\\/ 5 /         |                                                                                                                                                                                                                      10*\\/ 3 *x*\\/  5 + 3*\\/ 5  *\\/   - 28*\\/  5 + 3*\\/ 5   - 12*\\/ 5 *\\/  5 + 3*\\/ 5   + 5*\\/ 50  + 27*\\/ 2 *5    + 72*\\/ 2 *\\/ 5                                                                                                                                                                                                                                                                       - 840*2   *\\/ 3 *5   *\\/   - 28*\\/  5 + 3*\\/ 5   - 12*\\/ 5 *\\/  5 + 3*\\/ 5   + 5*\\/ 50  + 27*\\/ 2 *5    + 72*\\/ 2 *\\/ 5   - 1630*2   *\\/ 3 *\\/ 5 *\\/   - 28*\\/  5 + 3*\\/ 5   - 12*\\/ 5 *\\/  5 + 3*\\/ 5   + 5*\\/ 50  + 27*\\/ 2 *5    + 72*\\/ 2 *\\/ 5   - 250*\\/ 20 *\\/ 3 *\\/   - 28*\\/  5 + 3*\\/ 5   - 12*\\/ 5 *\\/  5 + 3*\\/ 5   + 5*\\/ 50  + 27*\\/ 2 *5    + 72*\\/ 2 *\\/ 5   + 25*\\/ 3 *\\/ 50 *\\/  5 + 3*\\/ 5  *\\/   - 28*\\/  5 + 3*\\/ 5   - 12*\\/ 5 *\\/  5 + 3*\\/ 5   + 5*\\/ 50  + 27*\\/ 2 *5    + 72*\\/ 2 *\\/ 5   + 207*\\/ 2 *\\/ 3 *5   *\\/  5 + 3*\\/ 5  *\\/   - 28*\\/  5 + 3*\\/ 5   - 12*\\/ 5 *\\/  5 + 3*\\/ 5   + 5*\\/ 50  + 27*\\/ 2 *5    + 72*\\/ 2 *\\/ 5   + 520*\\/ 2 *\\/ 3 *\\/ 5 *\\/  5 + 3*\\/ 5  *\\/   - 28*\\/  5 + 3*\\/ 5   - 12*\\/ 5 *\\/  5 + 3*\\/ 5   + 5*\\/ 50  + 27*\\/ 2 *5    + 72*\\/ 2 *\\/ 5   + 232*\\/ 15 *\\5 + 3*\\/ 5 /   *\\/   - 28*\\/  5 + 3*\\/ 5   - 12*\\/ 5 *\\/  5 + 3*\\/ 5   + 5*\\/ 50  + 27*\\/ 2 *5    + 72*\\/ 2 *\\/ 5   + 520*\\/ 3 *\\5 + 3*\\/ 5 /   *\\/   - 28*\\/  5 + 3*\\/ 5   - 12*\\/ 5 *\\/  5 + 3*\\/ 5   + 5*\\/ 50  + 27*\\/ 2 *5    + 72*\\/ 2 *\\/ 5                                               |\n",
       "|- ----------------------- + 3 /   ---- + ----- |*log|x  + ----------------------------------------------------------------------------------------------------------------------------------------------------------------------------------------------------- + -----------------------------------------------------------------------------------------------------------------------------------------------------------------------------------------------------------------------------------------------| + |- ------------------- + ----------------------|*log|x - --------------------- + 15*|- ------------------- + ----------------------|  + --------------------- + -| + 2*    /  --------------------------------------------------------------------------------------------- *  /    - ------------------ - ---------------------- + -------- + ------------ + ------------- + ---------------------- + ------------------------- *atan|--------------------------------------------------------------------------------------------------------------------------------------------------------------------------------------------------------------------------------------------------------------------------------------------------------------------------------------------------------------------------------------------------------------------------------------------------------------------------------------------------------------------------------------------------------------------------- + ------------------------------------------------------------------------------------------------------------------------------------------------------------------------------------------------------------------------------------------------------------------------------------------------------------------------------------------------------------------------------------------------------------------------------------------------------------------------------------------------------------------------------------------------------------------------------------------------------------------------------------------------------------------------------------------------------------------------------------------------------------------------------------------------------------------------------------------------------------------------------------------------------------------------------------------------------------------------------------------------------------------------------------------------------------------------------------------------------------------------------------------------------------------------|\n",
       "|           ______________   \\/    2160    3600 |    |                                                                                                               _____________                _____________                                                                                                                                       _____________                          _____________                            _____________                               2/3                          2/3|   |           3                    ______________|    |              3                |           3                    ______________|           ______________   3|        /                                                             _____________         _____________  \\/               15                     5                 30           10              5                   10                         30                 |                   ____________________________________________________________________________________________________________________________________________________________                                   ____________________________________________________________________________________________________________________________________________________________                                 ____________________________________________________________________________________________________________________________________________________________                         ____________________________________________________________________________________________________________________________________________________________                        ____________________________________________________________________________________________________________________________________________________________                                  ____________________________________________________________________________________________________________________________________________________________                                  ____________________________________________________________________________________________________________________________________________________________                                        ____________________________________________________________________________________________________________________________________________________________                                      ____________________________________________________________________________________________________________________________________________________________|\n",
       "|          /          ___                       |    |                                                             3 ___ 6 ___       3 ___  2/3      3 ____       3 /         ___          ___ 3 /         ___                                                                  2/3  5/6              2/3 3 ___            3 ____           3 ____ 3 /         ___             3 ___  2/3 3 /         ___              3 ___ 6 ___ 3 /         ___               ___ /        ___\\                /        ___\\   |   |                               /          ___ |    |                               |                               /          ___ |          /          ___     |       /         3 ___ 6 ___      3 ___  2/3     3 ____        ___ 3 /         ___       3 /         ___                                                                                                                                                            |                  /         _____________              _____________                                                                       2/3                             2/3                            2/3    /         _____________              _____________                                                                       2/3                             2/3                _____________    /         _____________              _____________                                                                       2/3                             2/3                         /         _____________              _____________                                                                       2/3                             2/3                        /         _____________              _____________                                                                       2/3                             2/3                           2/3    /         _____________              _____________                                                                       2/3                             2/3                           2/3    /         _____________              _____________                                                                       2/3                             2/3                       _____________    /         _____________              _____________                                                                       2/3                             2/3                     _____________    /         _____________              _____________                                                                       2/3                             2/3 |\n",
       "|         /   1     \\/ 5                        |    \\                                                       - 840*\\/ 2 *\\/ 5  - 351*\\/ 2 *5    - 25*\\/ 50  + 320*\\/  5 + 3*\\/ 5   + 144*\\/ 5 *\\/  5 + 3*\\/ 5                                                      - 243320832*2   *5    - 515851920*2   *\\/ 5  - 28230000*\\/ 20  + 2284800*\\/ 50 *\\/  5 + 3*\\/ 5   + 90655488*\\/ 2 *5   *\\/  5 + 3*\\/ 5   + 207820800*\\/ 2 *\\/ 5 *\\/  5 + 3*\\/ 5   + 69273600*\\/ 5 *\\5 + 3*\\/ 5 /    + 154900480*\\5 + 3*\\/ 5 /   /   |                              /  1    3*\\/ 5  |    |                               |                              /  1    3*\\/ 5  |         /  1    3*\\/ 5      |     \\/     - 72*\\/ 2 *\\/ 5  - 27*\\/ 2 *5    - 5*\\/ 50  + 12*\\/ 5 *\\/  5 + 3*\\/ 5   + 28*\\/  5 + 3*\\/ 5                                                                                                                                                             |     5/6 6 ___   /       3 /         ___        ___ 3 /         ___      3 ____     3 ___  2/3      3 ___ 6 ___      2/3  5/6 /        ___\\         2/3 3 ___ /        ___\\       6 ___  5/6 /        ___\\      /       3 /         ___        ___ 3 /         ___      3 ____     3 ___  2/3      3 ___ 6 ___      2/3  5/6 /        ___\\         2/3 3 ___ /        ___\\           ____ 3 /         ___    /       3 /         ___        ___ 3 /         ___      3 ____     3 ___  2/3      3 ___ 6 ___      2/3  5/6 /        ___\\         2/3 3 ___ /        ___\\              6 ___  5/6   /       3 /         ___        ___ 3 /         ___      3 ____     3 ___  2/3      3 ___ 6 ___      2/3  5/6 /        ___\\         2/3 3 ___ /        ___\\            6 ___ 3 ___   /       3 /         ___        ___ 3 /         ___      3 ____     3 ___  2/3      3 ___ 6 ___      2/3  5/6 /        ___\\         2/3 3 ___ /        ___\\             ___ /        ___\\      /       3 /         ___        ___ 3 /         ___      3 ____     3 ___  2/3      3 ___ 6 ___      2/3  5/6 /        ___\\         2/3 3 ___ /        ___\\            ____ /        ___\\      /       3 /         ___        ___ 3 /         ___      3 ____     3 ___  2/3      3 ___ 6 ___      2/3  5/6 /        ___\\         2/3 3 ___ /        ___\\             5/6 6 ___ 3 /         ___    /       3 /         ___        ___ 3 /         ___      3 ____     3 ___  2/3      3 ___ 6 ___      2/3  5/6 /        ___\\         2/3 3 ___ /        ___\\            5/6  2/3 3 /         ___    /       3 /         ___        ___ 3 /         ___      3 ____     3 ___  2/3      3 ___ 6 ___      2/3  5/6 /        ___\\         2/3 3 ___ /        ___\\    |\n",
       "|  180*3 /   ---- + -----                       |                                                                                                                                                                                                                                                                                                                                                                                                                                                                     |                        15*3 /   -- + ------- |    |                               |                        15*3 /   -- + ------- |    3*3 /   -- + -------     |                                                                                                                                                                                                                                                                    \\- 5*2   *\\/ 5 *\\/   - 14*\\/  5 + 3*\\/ 5   - 6*\\/ 5 *\\/  5 + 3*\\/ 5   + 7*\\/ 50  + 9*\\/ 2 *5    + 36*\\/ 2 *\\/ 5  + 3*2   *5   *\\5 + 3*\\/ 5 /    + 7*2   *\\/ 5 *\\5 + 3*\\/ 5 /     + \\/ 2 *5   *\\5 + 3*\\/ 5 /   *\\/   - 14*\\/  5 + 3*\\/ 5   - 6*\\/ 5 *\\/  5 + 3*\\/ 5   + 7*\\/ 50  + 9*\\/ 2 *5    + 36*\\/ 2 *\\/ 5  + 3*2   *5   *\\5 + 3*\\/ 5 /    + 7*2   *\\/ 5 *\\5 + 3*\\/ 5 /     + 5*\\/ 10 *\\/  5 + 3*\\/ 5  *\\/   - 14*\\/  5 + 3*\\/ 5   - 6*\\/ 5 *\\/  5 + 3*\\/ 5   + 7*\\/ 50  + 9*\\/ 2 *5    + 36*\\/ 2 *\\/ 5  + 3*2   *5   *\\5 + 3*\\/ 5 /    + 7*2   *\\/ 5 *\\5 + 3*\\/ 5 /       - 1504*\\/ 2 *5   *\\/   - 14*\\/  5 + 3*\\/ 5   - 6*\\/ 5 *\\/  5 + 3*\\/ 5   + 7*\\/ 50  + 9*\\/ 2 *5    + 36*\\/ 2 *\\/ 5  + 3*2   *5   *\\5 + 3*\\/ 5 /    + 7*2   *\\/ 5 *\\5 + 3*\\/ 5 /     - 3360*\\/ 2 *\\/ 5 *\\/   - 14*\\/  5 + 3*\\/ 5   - 6*\\/ 5 *\\/  5 + 3*\\/ 5   + 7*\\/ 50  + 9*\\/ 2 *5    + 36*\\/ 2 *\\/ 5  + 3*2   *5   *\\5 + 3*\\/ 5 /    + 7*2   *\\/ 5 *\\5 + 3*\\/ 5 /     + 120*\\/ 2 *\\5 + 3*\\/ 5 /   *\\/   - 14*\\/  5 + 3*\\/ 5   - 6*\\/ 5 *\\/  5 + 3*\\/ 5   + 7*\\/ 50  + 9*\\/ 2 *5    + 36*\\/ 2 *\\/ 5  + 3*2   *5   *\\5 + 3*\\/ 5 /    + 7*2   *\\/ 5 *\\5 + 3*\\/ 5 /     + 56*\\/ 10 *\\5 + 3*\\/ 5 /   *\\/   - 14*\\/  5 + 3*\\/ 5   - 6*\\/ 5 *\\/  5 + 3*\\/ 5   + 7*\\/ 50  + 9*\\/ 2 *5    + 36*\\/ 2 *\\/ 5  + 3*2   *5   *\\5 + 3*\\/ 5 /    + 7*2   *\\/ 5 *\\5 + 3*\\/ 5 /     + 2200*2   *\\/ 5 *\\/  5 + 3*\\/ 5  *\\/   - 14*\\/  5 + 3*\\/ 5   - 6*\\/ 5 *\\/  5 + 3*\\/ 5   + 7*\\/ 50  + 9*\\/ 2 *5    + 36*\\/ 2 *\\/ 5  + 3*2   *5   *\\5 + 3*\\/ 5 /    + 7*2   *\\/ 5 *\\5 + 3*\\/ 5 /     + 984*2   *5   *\\/  5 + 3*\\/ 5  *\\/   - 14*\\/  5 + 3*\\/ 5   - 6*\\/ 5 *\\/  5 + 3*\\/ 5   + 7*\\/ 50  + 9*\\/ 2 *5    + 36*\\/ 2 *\\/ 5  + 3*2   *5   *\\5 + 3*\\/ 5 /    + 7*2   *\\/ 5 *\\5 + 3*\\/ 5 /    /\n",
       "\\      \\/    2160    3600                       /                                                                                                                                                                                                                                                                                                                                                                                                                                                                     \\                           \\/    10      50   /    \\                               \\                           \\/    10      50   /      \\/    10      50       /                                                                                                                                                                                                                                                                                                                                                                                                                                                                                                                                                                                                                                                                                                                                                                                                                                                                                                                                                                                                                                                                                                                                                                                                                                                                                                                                                                                                                                                                                                                                                                                                                                                                                                                                                                                                                                                                                                                                                                                                                            "
      ]
     },
     "execution_count": 14,
     "metadata": {},
     "output_type": "execute_result"
    }
   ],
   "source": [
    "integrate(x/(x**3+3*x+1), x)"
   ]
  },
  {
   "cell_type": "code",
   "execution_count": 15,
   "metadata": {
    "collapsed": false
   },
   "outputs": [
    {
     "data": {
      "image/png": "[encoded data removed]",
      "text/latex": [
       "$$\\frac{x^{3} e^{x}}{2} \\sin{\\left (x \\right )} + \\frac{x^{3} e^{x}}{2} \\cos{\\left (x \\right )} - \\frac{3 x^{2}}{2} e^{x} \\sin{\\left (x \\right )} + \\frac{3 x}{2} e^{x} \\sin{\\left (x \\right )} - \\frac{3 x}{2} e^{x} \\cos{\\left (x \\right )} + \\frac{3 e^{x}}{2} \\cos{\\left (x \\right )}$$"
      ],
      "text/plain": [
       " 3  x           3  x             2  x               x               x             x       \n",
       "x *e *sin(x)   x *e *cos(x)   3*x *e *sin(x)   3*x*e *sin(x)   3*x*e *cos(x)   3*e *cos(x)\n",
       "------------ + ------------ - -------------- + ------------- - ------------- + -----------\n",
       "     2              2               2                2               2              2     "
      ]
     },
     "execution_count": 15,
     "metadata": {},
     "output_type": "execute_result"
    }
   ],
   "source": [
    "integrate(x**3 * exp(x) * cos(x), x)"
   ]
  },
  {
   "cell_type": "code",
   "execution_count": 16,
   "metadata": {
    "collapsed": false
   },
   "outputs": [
    {
     "data": {
      "image/png": "[encoded data removed]",
      "text/latex": [
       "$$\\int e^{- x^{3}} \\operatorname{erf}{\\left (x \\right )}\\, dx$$"
      ],
      "text/plain": [
       "  /              \n",
       " |               \n",
       " |    3          \n",
       " |  -x           \n",
       " | e   *erf(x) dx\n",
       " |               \n",
       "/                "
      ]
     },
     "execution_count": 16,
     "metadata": {},
     "output_type": "execute_result"
    }
   ],
   "source": [
    "integrate(exp(-x**3)*erf(x), x)"
   ]
  },
  {
   "cell_type": "markdown",
   "metadata": {},
   "source": [
    "## 6.16 多項式操作"
   ]
  },
  {
   "cell_type": "code",
   "execution_count": 18,
   "metadata": {
    "collapsed": false
   },
   "outputs": [
    {
     "data": {
      "image/png": "[encoded data removed]",
      "text/latex": [
       "$$4 x^{2} + 8 x + 5$$"
      ],
      "text/plain": [
       "   2          \n",
       "4*x  + 8*x + 5"
      ]
     },
     "execution_count": 18,
     "metadata": {},
     "output_type": "execute_result"
    }
   ],
   "source": [
    "from sympy import *\n",
    "x, y, z = symbols('x,y,z')\n",
    "init_printing(use_unicode=False, wrap_line=False, no_global=True)\n",
    "\n",
    "f = 4*x**2 + 8*x + 5\n",
    "f"
   ]
  },
  {
   "cell_type": "code",
   "execution_count": 19,
   "metadata": {
    "collapsed": false
   },
   "outputs": [
    {
     "data": {
      "image/png": "[encoded data removed]",
      "text/latex": [
       "$$3 x + 1$$"
      ],
      "text/plain": [
       "3*x + 1"
      ]
     },
     "execution_count": 19,
     "metadata": {},
     "output_type": "execute_result"
    }
   ],
   "source": [
    "g = 3*x + 1\n",
    "g"
   ]
  },
  {
   "cell_type": "code",
   "execution_count": 20,
   "metadata": {
    "collapsed": false
   },
   "outputs": [
    {
     "data": {
      "image/png": "[encoded data removed]",
      "text/latex": [
       "$$\\frac{4 x}{3} + \\frac{20}{9}$$"
      ],
      "text/plain": [
       "4*x   20\n",
       "--- + --\n",
       " 3    9 "
      ]
     },
     "execution_count": 20,
     "metadata": {},
     "output_type": "execute_result"
    }
   ],
   "source": [
    "q, r = div(f, g, domain='QQ')\n",
    "q"
   ]
  },
  {
   "cell_type": "code",
   "execution_count": 21,
   "metadata": {
    "collapsed": false
   },
   "outputs": [
    {
     "data": {
      "image/png": "[encoded data removed]",
      "text/latex": [
       "$$\\frac{25}{9}$$"
      ],
      "text/plain": [
       "25/9"
      ]
     },
     "execution_count": 21,
     "metadata": {},
     "output_type": "execute_result"
    }
   ],
   "source": [
    "r"
   ]
  },
  {
   "cell_type": "code",
   "execution_count": 22,
   "metadata": {
    "collapsed": false
   },
   "outputs": [
    {
     "data": {
      "image/png": "[encoded data removed]",
      "text/latex": [
       "$$4 x^{2} + 8 x + 5$$"
      ],
      "text/plain": [
       "   2          \n",
       "4*x  + 8*x + 5"
      ]
     },
     "execution_count": 22,
     "metadata": {},
     "output_type": "execute_result"
    }
   ],
   "source": [
    "(q*g + r).expand()"
   ]
  },
  {
   "cell_type": "code",
   "execution_count": 24,
   "metadata": {
    "collapsed": false
   },
   "outputs": [
    {
     "data": {
      "image/png": "[encoded data removed]",
      "text/latex": [
       "$$0$$"
      ],
      "text/plain": [
       "0"
      ]
     },
     "execution_count": 24,
     "metadata": {},
     "output_type": "execute_result"
    }
   ],
   "source": [
    "q, r = div(f, g, domain='ZZ')\n",
    "q"
   ]
  },
  {
   "cell_type": "code",
   "execution_count": 25,
   "metadata": {
    "collapsed": false
   },
   "outputs": [
    {
     "data": {
      "image/png": "[encoded data removed]",
      "text/latex": [
       "$$4 x^{2} + 8 x + 5$$"
      ],
      "text/plain": [
       "   2          \n",
       "4*x  + 8*x + 5"
      ]
     },
     "execution_count": 25,
     "metadata": {},
     "output_type": "execute_result"
    }
   ],
   "source": [
    "r"
   ]
  },
  {
   "cell_type": "code",
   "execution_count": 27,
   "metadata": {
    "collapsed": false
   },
   "outputs": [
    {
     "data": {
      "image/png": "[encoded data removed]",
      "text/latex": [
       "$$4 x + 2$$"
      ],
      "text/plain": [
       "4*x + 2"
      ]
     },
     "execution_count": 27,
     "metadata": {},
     "output_type": "execute_result"
    }
   ],
   "source": [
    "g = 4*x + 2\n",
    "g"
   ]
  },
  {
   "cell_type": "code",
   "execution_count": 29,
   "metadata": {
    "collapsed": false
   },
   "outputs": [
    {
     "data": {
      "image/png": "[encoded data removed]",
      "text/latex": [
       "$$x$$"
      ],
      "text/plain": [
       "x"
      ]
     },
     "execution_count": 29,
     "metadata": {},
     "output_type": "execute_result"
    }
   ],
   "source": [
    "q, r = div(f, g, domain='ZZ')\n",
    "q"
   ]
  },
  {
   "cell_type": "raw",
   "metadata": {},
   "source": [
    "r"
   ]
  },
  {
   "cell_type": "code",
   "execution_count": 30,
   "metadata": {
    "collapsed": false
   },
   "outputs": [
    {
     "data": {
      "image/png": "[encoded data removed]",
      "text/latex": [
       "$$0$$"
      ],
      "text/plain": [
       "0"
      ]
     },
     "execution_count": 30,
     "metadata": {},
     "output_type": "execute_result"
    }
   ],
   "source": [
    "(q*g + r).expand()\n",
    "g = 5*x + 1\n",
    "q, r = div(f, g, domain='ZZ')\n",
    "q"
   ]
  },
  {
   "cell_type": "code",
   "execution_count": 31,
   "metadata": {
    "collapsed": false
   },
   "outputs": [
    {
     "data": {
      "image/png": "[encoded data removed]",
      "text/latex": [
       "$$4 x^{2} + 8 x + 5$$"
      ],
      "text/plain": [
       "   2          \n",
       "4*x  + 8*x + 5"
      ]
     },
     "execution_count": 31,
     "metadata": {},
     "output_type": "execute_result"
    }
   ],
   "source": [
    "r"
   ]
  },
  {
   "cell_type": "code",
   "execution_count": 32,
   "metadata": {
    "collapsed": false
   },
   "outputs": [
    {
     "data": {
      "image/png": "[encoded data removed]",
      "text/latex": [
       "$$4 x^{2} + 8 x + 5$$"
      ],
      "text/plain": [
       "   2          \n",
       "4*x  + 8*x + 5"
      ]
     },
     "execution_count": 32,
     "metadata": {},
     "output_type": "execute_result"
    }
   ],
   "source": [
    "(q*g + r).expand()"
   ]
  },
  {
   "cell_type": "code",
   "execution_count": 33,
   "metadata": {
    "collapsed": false
   },
   "outputs": [
    {
     "data": {
      "image/png": "[encoded data removed]",
      "text/latex": [
       "$$a x^{2} + b x + c$$"
      ],
      "text/plain": [
       "   2          \n",
       "a*x  + b*x + c"
      ]
     },
     "execution_count": 33,
     "metadata": {},
     "output_type": "execute_result"
    }
   ],
   "source": [
    "a, b, c = symbols('a,b,c')\n",
    "f = a*x**2 + b*x + c\n",
    "f"
   ]
  },
  {
   "cell_type": "code",
   "execution_count": 34,
   "metadata": {
    "collapsed": false
   },
   "outputs": [
    {
     "data": {
      "image/png": "[encoded data removed]",
      "text/latex": [
       "$$3 x + 2$$"
      ],
      "text/plain": [
       "3*x + 2"
      ]
     },
     "execution_count": 34,
     "metadata": {},
     "output_type": "execute_result"
    }
   ],
   "source": [
    "g = 3*x + 2\n",
    "g"
   ]
  },
  {
   "cell_type": "code",
   "execution_count": 35,
   "metadata": {
    "collapsed": false
   },
   "outputs": [
    {
     "data": {
      "image/png": "[encoded data removed]",
      "text/latex": [
       "$$\\frac{a x}{3} - \\frac{2 a}{9} + \\frac{b}{3}$$"
      ],
      "text/plain": [
       "a*x   2*a   b\n",
       "--- - --- + -\n",
       " 3     9    3"
      ]
     },
     "execution_count": 35,
     "metadata": {},
     "output_type": "execute_result"
    }
   ],
   "source": [
    "q, r = div(f, g, domain='QQ')\n",
    "q"
   ]
  },
  {
   "cell_type": "code",
   "execution_count": 36,
   "metadata": {
    "collapsed": false
   },
   "outputs": [
    {
     "data": {
      "image/png": "[encoded data removed]",
      "text/latex": [
       "$$\\frac{4 a}{9} - \\frac{2 b}{3} + c$$"
      ],
      "text/plain": [
       "4*a   2*b    \n",
       "--- - --- + c\n",
       " 9     3     "
      ]
     },
     "execution_count": 36,
     "metadata": {},
     "output_type": "execute_result"
    }
   ],
   "source": [
    "r"
   ]
  },
  {
   "cell_type": "markdown",
   "metadata": {},
   "source": [
    "#### 因式分解"
   ]
  },
  {
   "cell_type": "code",
   "execution_count": 37,
   "metadata": {
    "collapsed": false
   },
   "outputs": [
    {
     "data": {
      "image/png": "[encoded data removed]",
      "text/latex": [
       "$$x \\left(15 x + 15\\right)$$"
      ],
      "text/plain": [
       "x*(15*x + 15)"
      ]
     },
     "execution_count": 37,
     "metadata": {},
     "output_type": "execute_result"
    }
   ],
   "source": [
    "from sympy import *\n",
    "x, y, z = symbols('x,y,z')\n",
    "init_printing(use_unicode=False, wrap_line=False, no_global=True)\n",
    "f = (15*x + 15)*x\n",
    "f"
   ]
  },
  {
   "cell_type": "code",
   "execution_count": 38,
   "metadata": {
    "collapsed": false
   },
   "outputs": [
    {
     "data": {
      "image/png": "[encoded data removed]",
      "text/latex": [
       "$$20 x^{2}$$"
      ],
      "text/plain": [
       "    2\n",
       "20*x "
      ]
     },
     "execution_count": 38,
     "metadata": {},
     "output_type": "execute_result"
    }
   ],
   "source": [
    "g = 20*x**2\n",
    "g"
   ]
  },
  {
   "cell_type": "code",
   "execution_count": 39,
   "metadata": {
    "collapsed": false
   },
   "outputs": [
    {
     "data": {
      "image/png": "[encoded data removed]",
      "text/latex": [
       "$$5 x$$"
      ],
      "text/plain": [
       "5*x"
      ]
     },
     "execution_count": 39,
     "metadata": {},
     "output_type": "execute_result"
    }
   ],
   "source": [
    "gcd(f, g)"
   ]
  },
  {
   "cell_type": "code",
   "execution_count": 40,
   "metadata": {
    "collapsed": false
   },
   "outputs": [
    {
     "data": {
      "image/png": "[encoded data removed]",
      "text/latex": [
       "$$2 x^{2}$$"
      ],
      "text/plain": [
       "   2\n",
       "2*x "
      ]
     },
     "execution_count": 40,
     "metadata": {},
     "output_type": "execute_result"
    }
   ],
   "source": [
    "f = 4*x**2/2\n",
    "f"
   ]
  },
  {
   "cell_type": "code",
   "execution_count": 41,
   "metadata": {
    "collapsed": false
   },
   "outputs": [
    {
     "data": {
      "image/png": "[encoded data removed]",
      "text/latex": [
       "$$4 x$$"
      ],
      "text/plain": [
       "4*x"
      ]
     },
     "execution_count": 41,
     "metadata": {},
     "output_type": "execute_result"
    }
   ],
   "source": [
    "g = 16*x/4\n",
    "g"
   ]
  },
  {
   "cell_type": "code",
   "execution_count": 42,
   "metadata": {
    "collapsed": false
   },
   "outputs": [
    {
     "data": {
      "image/png": "[encoded data removed]",
      "text/latex": [
       "$$2 x$$"
      ],
      "text/plain": [
       "2*x"
      ]
     },
     "execution_count": 42,
     "metadata": {},
     "output_type": "execute_result"
    }
   ],
   "source": [
    "gcd(f, g)"
   ]
  },
  {
   "cell_type": "code",
   "execution_count": 43,
   "metadata": {
    "collapsed": false
   },
   "outputs": [
    {
     "data": {
      "image/png": "[encoded data removed]",
      "text/latex": [
       "$$\\frac{x y}{3} + y^{2}$$"
      ],
      "text/plain": [
       "x*y    2\n",
       "--- + y \n",
       " 3      "
      ]
     },
     "execution_count": 43,
     "metadata": {},
     "output_type": "execute_result"
    }
   ],
   "source": [
    "f = x*y/3 + y**2\n",
    "f"
   ]
  },
  {
   "cell_type": "code",
   "execution_count": 44,
   "metadata": {
    "collapsed": false
   },
   "outputs": [
    {
     "data": {
      "image/png": "[encoded data removed]",
      "text/latex": [
       "$$4 x + 9 y$$"
      ],
      "text/plain": [
       "4*x + 9*y"
      ]
     },
     "execution_count": 44,
     "metadata": {},
     "output_type": "execute_result"
    }
   ],
   "source": [
    "g = 4*x + 9*y\n",
    "g"
   ]
  },
  {
   "cell_type": "code",
   "execution_count": 46,
   "metadata": {
    "collapsed": false
   },
   "outputs": [
    {
     "data": {
      "image/png": "[encoded data removed]",
      "text/latex": [
       "$$1$$"
      ],
      "text/plain": [
       "1"
      ]
     },
     "execution_count": 46,
     "metadata": {},
     "output_type": "execute_result"
    }
   ],
   "source": [
    "gcd(f, g)"
   ]
  },
  {
   "cell_type": "code",
   "execution_count": 47,
   "metadata": {
    "collapsed": false
   },
   "outputs": [
    {
     "data": {
      "image/png": "[encoded data removed]",
      "text/latex": [
       "$$x^{2} y + x y^{2}$$"
      ],
      "text/plain": [
       " 2        2\n",
       "x *y + x*y "
      ]
     },
     "execution_count": 47,
     "metadata": {},
     "output_type": "execute_result"
    }
   ],
   "source": [
    "f = x*y**2 + x**2*y\n",
    "f"
   ]
  },
  {
   "cell_type": "code",
   "execution_count": 48,
   "metadata": {
    "collapsed": false
   },
   "outputs": [
    {
     "data": {
      "image/png": "[encoded data removed]",
      "text/latex": [
       "$$x^{2} y^{2}$$"
      ],
      "text/plain": [
       " 2  2\n",
       "x *y "
      ]
     },
     "execution_count": 48,
     "metadata": {},
     "output_type": "execute_result"
    }
   ],
   "source": [
    "g = x**2*y**2\n",
    "g"
   ]
  },
  {
   "cell_type": "code",
   "execution_count": 49,
   "metadata": {
    "collapsed": false
   },
   "outputs": [
    {
     "data": {
      "image/png": "[encoded data removed]",
      "text/latex": [
       "$$x y$$"
      ],
      "text/plain": [
       "x*y"
      ]
     },
     "execution_count": 49,
     "metadata": {},
     "output_type": "execute_result"
    }
   ],
   "source": [
    "gcd(f, g)"
   ]
  },
  {
   "cell_type": "code",
   "execution_count": 50,
   "metadata": {
    "collapsed": false
   },
   "outputs": [
    {
     "data": {
      "image/png": "[encoded data removed]",
      "text/latex": [
       "$$x^{3} y^{2} + x^{2} y^{3}$$"
      ],
      "text/plain": [
       " 3  2    2  3\n",
       "x *y  + x *y "
      ]
     },
     "execution_count": 50,
     "metadata": {},
     "output_type": "execute_result"
    }
   ],
   "source": [
    "lcm(f, g)"
   ]
  },
  {
   "cell_type": "code",
   "execution_count": 51,
   "metadata": {
    "collapsed": false
   },
   "outputs": [
    {
     "data": {
      "image/png": "[encoded data removed]",
      "text/latex": [
       "$$x^{4} y^{3} + x^{3} y^{4}$$"
      ],
      "text/plain": [
       " 4  3    3  4\n",
       "x *y  + x *y "
      ]
     },
     "execution_count": 51,
     "metadata": {},
     "output_type": "execute_result"
    }
   ],
   "source": [
    "(f*g).expand()"
   ]
  },
  {
   "cell_type": "code",
   "execution_count": 52,
   "metadata": {
    "collapsed": false
   },
   "outputs": [
    {
     "data": {
      "image/png": "[encoded data removed]",
      "text/latex": [
       "$$x^{4} y^{3} + x^{3} y^{4}$$"
      ],
      "text/plain": [
       " 4  3    3  4\n",
       "x *y  + x *y "
      ]
     },
     "execution_count": 52,
     "metadata": {},
     "output_type": "execute_result"
    }
   ],
   "source": [
    "(gcd(f, g, x, y)*lcm(f, g, x, y)).expand()"
   ]
  },
  {
   "cell_type": "code",
   "execution_count": 53,
   "metadata": {
    "collapsed": false
   },
   "outputs": [
    {
     "data": {
      "image/png": "[encoded data removed]",
      "text/latex": [
       "$$2 x^{5} + 3 x^{4} + 6 x^{3} + 4 x^{2}$$"
      ],
      "text/plain": [
       "   5      4      3      2\n",
       "2*x  + 3*x  + 6*x  + 4*x "
      ]
     },
     "execution_count": 53,
     "metadata": {},
     "output_type": "execute_result"
    }
   ],
   "source": [
    "f = 4*x**2 + 6*x**3 + 3*x**4 + 2*x**5\n",
    "f"
   ]
  },
  {
   "cell_type": "code",
   "execution_count": 54,
   "metadata": {
    "collapsed": false
   },
   "outputs": [
    {
     "data": {
      "image/png": "[encoded data removed]",
      "text/latex": [
       "$$\\left ( 1, \\quad \\left [ \\left ( 2 x^{3} + 3 x^{2} + 6 x + 4, \\quad 1\\right ), \\quad \\left ( x, \\quad 2\\right )\\right ]\\right )$$"
      ],
      "text/plain": [
       "         3      2                        \n",
       "(1, [(2*x  + 3*x  + 6*x + 4, 1), (x, 2)])"
      ]
     },
     "execution_count": 54,
     "metadata": {},
     "output_type": "execute_result"
    }
   ],
   "source": [
    "sqf_list(f)"
   ]
  },
  {
   "cell_type": "code",
   "execution_count": 55,
   "metadata": {
    "collapsed": false
   },
   "outputs": [
    {
     "data": {
      "image/png": "[encoded data removed]",
      "text/latex": [
       "$$x^{2} \\left(2 x^{3} + 3 x^{2} + 6 x + 4\\right)$$"
      ],
      "text/plain": [
       " 2 /   3      2          \\\n",
       "x *\\2*x  + 3*x  + 6*x + 4/"
      ]
     },
     "execution_count": 55,
     "metadata": {},
     "output_type": "execute_result"
    }
   ],
   "source": [
    "sqf(f)"
   ]
  },
  {
   "cell_type": "code",
   "execution_count": 56,
   "metadata": {
    "collapsed": false
   },
   "outputs": [
    {
     "data": {
      "image/png": "[encoded data removed]",
      "text/latex": [
       "$$\\frac{x^{2}}{24} \\left(8 x^{2} + 9 x - 12\\right)$$"
      ],
      "text/plain": [
       " 2 /   2           \\\n",
       "x *\\8*x  + 9*x - 12/\n",
       "--------------------\n",
       "         24         "
      ]
     },
     "execution_count": 56,
     "metadata": {},
     "output_type": "execute_result"
    }
   ],
   "source": [
    "factor(x**4/3 + 6*x**3/16 - 2*x**2/4)"
   ]
  },
  {
   "cell_type": "code",
   "execution_count": 57,
   "metadata": {
    "collapsed": false
   },
   "outputs": [
    {
     "data": {
      "image/png": "[encoded data removed]",
      "text/latex": [
       "$$x^{2} + 3 x y + 4 y^{2}$$"
      ],
      "text/plain": [
       " 2              2\n",
       "x  + 3*x*y + 4*y "
      ]
     },
     "execution_count": 57,
     "metadata": {},
     "output_type": "execute_result"
    }
   ],
   "source": [
    "factor(x**2 + 3*x*y + 4*y**2)"
   ]
  },
  {
   "cell_type": "markdown",
   "metadata": {},
   "source": [
    "## 6.17 集合"
   ]
  },
  {
   "cell_type": "code",
   "execution_count": 58,
   "metadata": {
    "collapsed": false
   },
   "outputs": [
    {
     "data": {
      "image/png": "[encoded data removed]",
      "text/latex": [
       "$$\\left[1, 10\\right]$$"
      ],
      "text/plain": [
       "[1, 10]"
      ]
     },
     "execution_count": 58,
     "metadata": {},
     "output_type": "execute_result"
    }
   ],
   "source": [
    "from sympy import Symbol, Interval\n",
    "from sympy import FiniteSet\n",
    "\n",
    "Interval(1, 10)"
   ]
  },
  {
   "cell_type": "code",
   "execution_count": 59,
   "metadata": {
    "collapsed": false
   },
   "outputs": [
    {
     "data": {
      "image/png": "[encoded data removed]",
      "text/latex": [
       "$$\\left[1, 10\\right)$$"
      ],
      "text/plain": [
       "[1, 10)"
      ]
     },
     "execution_count": 59,
     "metadata": {},
     "output_type": "execute_result"
    }
   ],
   "source": [
    "Interval(1, 10, False, True)"
   ]
  },
  {
   "cell_type": "code",
   "execution_count": 60,
   "metadata": {
    "collapsed": false
   },
   "outputs": [
    {
     "data": {
      "image/png": "[encoded data removed]",
      "text/latex": [
       "$$\\left[1, a\\right]$$"
      ],
      "text/plain": [
       "[1, a]"
      ]
     },
     "execution_count": 60,
     "metadata": {},
     "output_type": "execute_result"
    }
   ],
   "source": [
    "a = Symbol('a', real=True)\n",
    "Interval(1, a)"
   ]
  },
  {
   "cell_type": "code",
   "execution_count": 61,
   "metadata": {
    "collapsed": false
   },
   "outputs": [
    {
     "data": {
      "image/png": "[encoded data removed]",
      "text/latex": [
       "$$100$$"
      ],
      "text/plain": [
       "100"
      ]
     },
     "execution_count": 61,
     "metadata": {},
     "output_type": "execute_result"
    }
   ],
   "source": [
    "Interval(1, 100).end"
   ]
  },
  {
   "cell_type": "code",
   "execution_count": 62,
   "metadata": {
    "collapsed": false
   },
   "outputs": [
    {
     "data": {
      "image/png": "[encoded data removed]",
      "text/latex": [
       "$$0$$"
      ],
      "text/plain": [
       "0"
      ]
     },
     "execution_count": 62,
     "metadata": {},
     "output_type": "execute_result"
    }
   ],
   "source": [
    "from sympy import Interval\n",
    "Interval(0, 1).start"
   ]
  },
  {
   "cell_type": "code",
   "execution_count": 64,
   "metadata": {
    "collapsed": false
   },
   "outputs": [
    {
     "data": {
      "image/png": "[encoded data removed]",
      "text/latex": [
       "$$\\left(100, 550\\right]$$"
      ],
      "text/plain": [
       "(100, 550]"
      ]
     },
     "execution_count": 64,
     "metadata": {},
     "output_type": "execute_result"
    }
   ],
   "source": [
    "Interval(100, 550, left_open=True)"
   ]
  },
  {
   "cell_type": "code",
   "execution_count": 65,
   "metadata": {
    "collapsed": false
   },
   "outputs": [
    {
     "data": {
      "image/png": "[encoded data removed]",
      "text/latex": [
       "$$\\left[100, 550\\right]$$"
      ],
      "text/plain": [
       "[100, 550]"
      ]
     },
     "execution_count": 65,
     "metadata": {},
     "output_type": "execute_result"
    }
   ],
   "source": [
    "Interval(100, 550, left_open=False)"
   ]
  },
  {
   "cell_type": "code",
   "execution_count": 66,
   "metadata": {
    "collapsed": false
   },
   "outputs": [
    {
     "data": {
      "image/png": "[encoded data removed]",
      "text/latex": [
       "$$\\mathrm{True}$$"
      ],
      "text/plain": [
       "True"
      ]
     },
     "execution_count": 66,
     "metadata": {},
     "output_type": "execute_result"
    }
   ],
   "source": [
    "Interval(100, 550, left_open=True).left_open"
   ]
  },
  {
   "cell_type": "code",
   "execution_count": 67,
   "metadata": {
    "collapsed": false
   },
   "outputs": [
    {
     "data": {
      "image/png": "[encoded data removed]",
      "text/latex": [
       "$$\\mathrm{False}$$"
      ],
      "text/plain": [
       "False"
      ]
     },
     "execution_count": 67,
     "metadata": {},
     "output_type": "execute_result"
    }
   ],
   "source": [
    "Interval(100, 550, left_open=False).left_open"
   ]
  },
  {
   "cell_type": "code",
   "execution_count": 68,
   "metadata": {
    "collapsed": false
   },
   "outputs": [
    {
     "data": {
      "image/png": "[encoded data removed]",
      "text/latex": [
       "$$\\left[100, 550\\right)$$"
      ],
      "text/plain": [
       "[100, 550)"
      ]
     },
     "execution_count": 68,
     "metadata": {},
     "output_type": "execute_result"
    }
   ],
   "source": [
    "Interval(100, 550, right_open=True)"
   ]
  },
  {
   "cell_type": "code",
   "execution_count": 69,
   "metadata": {
    "collapsed": false
   },
   "outputs": [
    {
     "data": {
      "image/png": "[encoded data removed]",
      "text/latex": [
       "$$\\left[0, 1\\right]$$"
      ],
      "text/plain": [
       "[0, 1]"
      ]
     },
     "execution_count": 69,
     "metadata": {},
     "output_type": "execute_result"
    }
   ],
   "source": [
    "Interval(0, 1, right_open=False)"
   ]
  },
  {
   "cell_type": "code",
   "execution_count": 70,
   "metadata": {
    "collapsed": false
   },
   "outputs": [
    {
     "data": {
      "image/png": "[encoded data removed]",
      "text/latex": [
       "$$\\mathrm{False}$$"
      ],
      "text/plain": [
       "False"
      ]
     },
     "execution_count": 70,
     "metadata": {},
     "output_type": "execute_result"
    }
   ],
   "source": [
    "Interval(0, 1, right_open=True).right_open\n",
    "Interval(0, 1, right_open=False).right_open"
   ]
  },
  {
   "cell_type": "code",
   "execution_count": 72,
   "metadata": {
    "collapsed": false
   },
   "outputs": [
    {
     "data": {
      "image/png": "[encoded data removed]",
      "text/latex": [
       "$$\\left\\{1, 2, 3, 4, 7, 10, 15, 30\\right\\}$$"
      ],
      "text/plain": [
       "{1, 2, 3, 4, 7, 10, 15, 30}"
      ]
     },
     "execution_count": 72,
     "metadata": {},
     "output_type": "execute_result"
    }
   ],
   "source": [
    "FiniteSet(1, 2, 3, 4, 10, 15, 30, 7)"
   ]
  },
  {
   "cell_type": "code",
   "execution_count": 73,
   "metadata": {
    "collapsed": false
   },
   "outputs": [
    {
     "data": {
      "text/plain": [
       "True"
      ]
     },
     "execution_count": 73,
     "metadata": {},
     "output_type": "execute_result"
    }
   ],
   "source": [
    "10 in FiniteSet(1, 2, 3, 4, 10, 15, 30, 7)"
   ]
  },
  {
   "cell_type": "code",
   "execution_count": 74,
   "metadata": {
    "collapsed": false
   },
   "outputs": [
    {
     "data": {
      "text/plain": [
       "False"
      ]
     },
     "execution_count": 74,
     "metadata": {},
     "output_type": "execute_result"
    }
   ],
   "source": [
    "17 in FiniteSet(1, 2, 3, 4, 10, 15, 30, 7)"
   ]
  },
  {
   "cell_type": "markdown",
   "metadata": {},
   "source": [
    "#### 集合的運算： 聯集 交集 補集 乘積"
   ]
  },
  {
   "cell_type": "code",
   "execution_count": 75,
   "metadata": {
    "collapsed": false
   },
   "outputs": [
    {
     "data": {
      "image/png": "[encoded data removed]",
      "text/latex": [
       "$$\\left[1, 30\\right]$$"
      ],
      "text/plain": [
       "[1, 30]"
      ]
     },
     "execution_count": 75,
     "metadata": {},
     "output_type": "execute_result"
    }
   ],
   "source": [
    "from sympy import FiniteSet, Intersection, Interval,  ProductSet, Union\n",
    "init_printing(use_unicode=False, wrap_line=False, no_global=True)\n",
    "\n",
    "Union(Interval(1, 10), Interval(10, 30))"
   ]
  },
  {
   "cell_type": "code",
   "execution_count": 76,
   "metadata": {
    "collapsed": false
   },
   "outputs": [
    {
     "data": {
      "image/png": "[encoded data removed]",
      "text/latex": [
       "$$\\left[5, 25\\right]$$"
      ],
      "text/plain": [
       "[5, 25]"
      ]
     },
     "execution_count": 76,
     "metadata": {},
     "output_type": "execute_result"
    }
   ],
   "source": [
    "Union(Interval(5, 15), Interval(15, 25))"
   ]
  },
  {
   "cell_type": "code",
   "execution_count": 77,
   "metadata": {
    "collapsed": false
   },
   "outputs": [
    {
     "data": {
      "image/png": "[encoded data removed]",
      "text/latex": [
       "$$\\left\\{1, 2, 3, 4, 7, 10, 15, 30\\right\\}$$"
      ],
      "text/plain": [
       "{1, 2, 3, 4, 7, 10, 15, 30}"
      ]
     },
     "execution_count": 77,
     "metadata": {},
     "output_type": "execute_result"
    }
   ],
   "source": [
    "Union(FiniteSet(1, 2, 3, 4), FiniteSet(10, 15, 30, 7))"
   ]
  },
  {
   "cell_type": "code",
   "execution_count": 78,
   "metadata": {
    "collapsed": false
   },
   "outputs": [
    {
     "data": {
      "image/png": "[encoded data removed]",
      "text/latex": [
       "$$\\left[2, 3\\right]$$"
      ],
      "text/plain": [
       "[2, 3]"
      ]
     },
     "execution_count": 78,
     "metadata": {},
     "output_type": "execute_result"
    }
   ],
   "source": [
    "Intersection(Interval(1, 3), Interval(2, 4))"
   ]
  },
  {
   "cell_type": "code",
   "execution_count": 79,
   "metadata": {
    "collapsed": false
   },
   "outputs": [
    {
     "data": {
      "image/png": "[encoded data removed]",
      "text/latex": [
       "$$\\left[2, 3\\right]$$"
      ],
      "text/plain": [
       "[2, 3]"
      ]
     },
     "execution_count": 79,
     "metadata": {},
     "output_type": "execute_result"
    }
   ],
   "source": [
    "Interval(1,3).intersect(Interval(2,4))"
   ]
  },
  {
   "cell_type": "code",
   "execution_count": 80,
   "metadata": {
    "collapsed": false
   },
   "outputs": [
    {
     "data": {
      "image/png": "[encoded data removed]",
      "text/latex": [
       "$$\\left\\{1, 3, 4\\right\\}$$"
      ],
      "text/plain": [
       "{1, 3, 4}"
      ]
     },
     "execution_count": 80,
     "metadata": {},
     "output_type": "execute_result"
    }
   ],
   "source": [
    "Intersection(FiniteSet(1, 2, 3, 4), FiniteSet(1, 3, 4, 7))"
   ]
  },
  {
   "cell_type": "code",
   "execution_count": 82,
   "metadata": {
    "collapsed": false
   },
   "outputs": [
    {
     "data": {
      "image/png": "[encoded data removed]",
      "text/latex": [
       "$$\\left\\{1, 3, 4\\right\\}$$"
      ],
      "text/plain": [
       "{1, 3, 4}"
      ]
     },
     "execution_count": 82,
     "metadata": {},
     "output_type": "execute_result"
    }
   ],
   "source": [
    "FiniteSet(1, 2, 3, 4).intersect(FiniteSet(1, 3, 4, 7))"
   ]
  },
  {
   "cell_type": "code",
   "execution_count": 83,
   "metadata": {
    "collapsed": false
   },
   "outputs": [
    {
     "data": {
      "image/png": "[encoded data removed]",
      "text/latex": [
       "$$\\left[0, 5\\right] \\times \\left\\{1, 2, 3\\right\\}$$"
      ],
      "text/plain": [
       "[0, 5] x {1, 2, 3}"
      ]
     },
     "execution_count": 83,
     "metadata": {},
     "output_type": "execute_result"
    }
   ],
   "source": [
    "I = Interval(0, 5)\n",
    "S = FiniteSet(1, 2, 3)\n",
    "ProductSet(I, S)"
   ]
  },
  {
   "cell_type": "code",
   "execution_count": 84,
   "metadata": {
    "collapsed": false
   },
   "outputs": [
    {
     "data": {
      "text/plain": [
       "True"
      ]
     },
     "execution_count": 84,
     "metadata": {},
     "output_type": "execute_result"
    }
   ],
   "source": [
    "(2, 2) in ProductSet(I, S)"
   ]
  },
  {
   "cell_type": "code",
   "execution_count": 85,
   "metadata": {
    "collapsed": false
   },
   "outputs": [
    {
     "data": {
      "image/png": "[encoded data removed]",
      "text/latex": [
       "$$\\left[0, 1\\right]^2$$"
      ],
      "text/plain": [
       "      2\n",
       "[0, 1] "
      ]
     },
     "execution_count": 85,
     "metadata": {},
     "output_type": "execute_result"
    }
   ],
   "source": [
    "Interval(0, 1) * Interval(0, 1) "
   ]
  },
  {
   "cell_type": "code",
   "execution_count": 86,
   "metadata": {
    "collapsed": false
   },
   "outputs": [
    {
     "data": {
      "image/png": "[encoded data removed]",
      "text/latex": [
       "$$\\left\\{H, T\\right\\}$$"
      ],
      "text/plain": [
       "{H, T}"
      ]
     },
     "execution_count": 86,
     "metadata": {},
     "output_type": "execute_result"
    }
   ],
   "source": [
    "coin = FiniteSet('H', 'T')\n",
    "coin"
   ]
  },
  {
   "cell_type": "code",
   "execution_count": 87,
   "metadata": {
    "collapsed": false
   },
   "outputs": [
    {
     "data": {
      "image/png": "[encoded data removed]",
      "text/latex": [
       "$$\\left\\{\\left ( H, \\quad H\\right ), \\left ( H, \\quad T\\right ), \\left ( T, \\quad H\\right ), \\left ( T, \\quad T\\right )\\right\\}$$"
      ],
      "text/plain": [
       "set([(H, H), (H, T), (T, H), (T, T)])"
      ]
     },
     "execution_count": 87,
     "metadata": {},
     "output_type": "execute_result"
    }
   ],
   "source": [
    "set(coin**2)"
   ]
  },
  {
   "cell_type": "code",
   "execution_count": 88,
   "metadata": {
    "collapsed": false
   },
   "outputs": [
    {
     "data": {
      "image/png": "[encoded data removed]",
      "text/latex": [
       "$$\\left\\{0, 3, 4, 5\\right\\}$$"
      ],
      "text/plain": [
       "{0, 3, 4, 5}"
      ]
     },
     "execution_count": 88,
     "metadata": {},
     "output_type": "execute_result"
    }
   ],
   "source": [
    "Complement(FiniteSet(0, 1, 2, 3, 4, 5), FiniteSet(1, 2))"
   ]
  },
  {
   "cell_type": "markdown",
   "metadata": {},
   "source": [
    "## 6.18 運算的簡化和合併"
   ]
  },
  {
   "cell_type": "code",
   "execution_count": 89,
   "metadata": {
    "collapsed": false
   },
   "outputs": [
    {
     "data": {
      "image/png": "[encoded data removed]",
      "text/latex": [
       "$$\\frac{3 x^{2} + 2 x}{4 x \\sin^{2}{\\left (y \\right )} + 2 x \\cos^{2}{\\left (y \\right )}}$$"
      ],
      "text/plain": [
       "           2             \n",
       "        3*x  + 2*x       \n",
       "-------------------------\n",
       "       2             2   \n",
       "4*x*sin (y) + 2*x*cos (y)"
      ]
     },
     "execution_count": 89,
     "metadata": {},
     "output_type": "execute_result"
    }
   ],
   "source": [
    "from sympy import simplify, cos, sin, trigsimp, cancel\n",
    "from sympy import sqrt, count_ops, oo, symbols, log\n",
    "from sympy.abc import x, y\n",
    "\n",
    "expr = (2*x + 3*x**2)/(4*x*sin(y)**2 + 2*x*cos(y)**2)\n",
    "expr"
   ]
  },
  {
   "cell_type": "code",
   "execution_count": 90,
   "metadata": {
    "collapsed": false
   },
   "outputs": [
    {
     "data": {
      "image/png": "[encoded data removed]",
      "text/latex": [
       "$$\\frac{\\frac{3 x}{2} + 1}{\\sin^{2}{\\left (y \\right )} + 1}$$"
      ],
      "text/plain": [
       "  3*x      \n",
       "  --- + 1  \n",
       "   2       \n",
       "-----------\n",
       "   2       \n",
       "sin (y) + 1"
      ]
     },
     "execution_count": 90,
     "metadata": {},
     "output_type": "execute_result"
    }
   ],
   "source": [
    "simplify(expr)"
   ]
  },
  {
   "cell_type": "code",
   "execution_count": 91,
   "metadata": {
    "collapsed": false
   },
   "outputs": [
    {
     "data": {
      "image/png": "[encoded data removed]",
      "text/latex": [
       "$$\\frac{3 x^{2} + 2 x}{2 x \\left(\\sin^{2}{\\left (y \\right )} + 1\\right)}$$"
      ],
      "text/plain": [
       "       2         \n",
       "    3*x  + 2*x   \n",
       "-----------------\n",
       "    /   2       \\\n",
       "2*x*\\sin (y) + 1/"
      ]
     },
     "execution_count": 91,
     "metadata": {},
     "output_type": "execute_result"
    }
   ],
   "source": [
    "trigsimp(expr)"
   ]
  },
  {
   "cell_type": "code",
   "execution_count": 92,
   "metadata": {
    "collapsed": false
   },
   "outputs": [
    {
     "data": {
      "image/png": "[encoded data removed]",
      "text/latex": [
       "$$\\frac{3 x + 2}{2 \\sin^{2}{\\left (y \\right )} + 2}$$"
      ],
      "text/plain": [
       "   3*x + 2   \n",
       "-------------\n",
       "     2       \n",
       "2*sin (y) + 2"
      ]
     },
     "execution_count": 92,
     "metadata": {},
     "output_type": "execute_result"
    }
   ],
   "source": [
    "cancel(_)"
   ]
  },
  {
   "cell_type": "code",
   "execution_count": 93,
   "metadata": {
    "collapsed": false
   },
   "outputs": [
    {
     "data": {
      "image/png": "[encoded data removed]",
      "text/latex": [
       "$$\\frac{4}{\\sqrt{2} + 3}$$"
      ],
      "text/plain": [
       "    4    \n",
       "---------\n",
       "  ___    \n",
       "\\/ 2  + 3"
      ]
     },
     "execution_count": 93,
     "metadata": {},
     "output_type": "execute_result"
    }
   ],
   "source": [
    "root = 4/(sqrt(2)+3)\n",
    "root"
   ]
  },
  {
   "cell_type": "code",
   "execution_count": 94,
   "metadata": {
    "collapsed": false
   },
   "outputs": [
    {
     "data": {
      "text/plain": [
       "True"
      ]
     },
     "execution_count": 94,
     "metadata": {},
     "output_type": "execute_result"
    }
   ],
   "source": [
    "simplify(root, ratio=1) == root"
   ]
  },
  {
   "cell_type": "code",
   "execution_count": 95,
   "metadata": {
    "collapsed": false
   },
   "outputs": [
    {
     "data": {
      "text/plain": [
       "True"
      ]
     },
     "execution_count": 95,
     "metadata": {},
     "output_type": "execute_result"
    }
   ],
   "source": [
    "count_ops(simplify(root, ratio=oo)) > count_ops(root)"
   ]
  },
  {
   "cell_type": "code",
   "execution_count": 96,
   "metadata": {
    "collapsed": true
   },
   "outputs": [],
   "source": [
    "x, y = symbols('x y', positive=True)"
   ]
  },
  {
   "cell_type": "code",
   "execution_count": 97,
   "metadata": {
    "collapsed": false
   },
   "outputs": [
    {
     "data": {
      "image/png": "[encoded data removed]",
      "text/latex": [
       "$$\\log{\\left (x \\right )} \\log{\\left (\\frac{1}{y} \\right )} + \\log{\\left (x \\right )} + \\log{\\left (y \\right )}$$"
      ],
      "text/plain": [
       "          /1\\                  \n",
       "log(x)*log|-| + log(x) + log(y)\n",
       "          \\y/                  "
      ]
     },
     "execution_count": 97,
     "metadata": {},
     "output_type": "execute_result"
    }
   ],
   "source": [
    "expr2 = log(x) + log(y) + log(x)*log(1/y)\n",
    "expr2"
   ]
  },
  {
   "cell_type": "code",
   "execution_count": 98,
   "metadata": {
    "collapsed": false
   },
   "outputs": [
    {
     "data": {
      "image/png": "[encoded data removed]",
      "text/latex": [
       "$$\\log{\\left (x y^{- \\log{\\left (x \\right )} + 1} \\right )}$$"
      ],
      "text/plain": [
       "   /   -log(x) + 1\\\n",
       "log\\x*y           /"
      ]
     },
     "execution_count": 98,
     "metadata": {},
     "output_type": "execute_result"
    }
   ],
   "source": [
    "expr3 = simplify(expr2)\n",
    "expr3"
   ]
  },
  {
   "cell_type": "code",
   "execution_count": 99,
   "metadata": {
    "collapsed": false
   },
   "outputs": [
    {
     "data": {
      "image/png": "[encoded data removed]",
      "text/latex": [
       "$$8$$"
      ],
      "text/plain": [
       "8"
      ]
     },
     "execution_count": 99,
     "metadata": {},
     "output_type": "execute_result"
    }
   ],
   "source": [
    "count_ops(expr2)"
   ]
  },
  {
   "cell_type": "code",
   "execution_count": 100,
   "metadata": {
    "collapsed": false
   },
   "outputs": [
    {
     "data": {
      "image/png": "[encoded data removed]",
      "text/latex": [
       "$$5$$"
      ],
      "text/plain": [
       "5"
      ]
     },
     "execution_count": 100,
     "metadata": {},
     "output_type": "execute_result"
    }
   ],
   "source": [
    "count_ops(expr3)"
   ]
  },
  {
   "cell_type": "code",
   "execution_count": 101,
   "metadata": {
    "collapsed": false
   },
   "outputs": [
    {
     "name": "stdout",
     "output_type": "stream",
     "text": [
      "2*ADD + DIV + 4*LOG + MUL\n"
     ]
    }
   ],
   "source": [
    "print(count_ops(expr2, visual=True))"
   ]
  },
  {
   "cell_type": "code",
   "execution_count": 102,
   "metadata": {
    "collapsed": false
   },
   "outputs": [
    {
     "name": "stdout",
     "output_type": "stream",
     "text": [
      "2*LOG + MUL + POW + SUB\n"
     ]
    }
   ],
   "source": [
    "print(count_ops(expr3, visual=True))"
   ]
  }
 ],
 "metadata": {
  "kernelspec": {
   "display_name": "Python 3",
   "language": "python",
   "name": "python3"
  },
  "language_info": {
   "codemirror_mode": {
    "name": "ipython",
    "version": 3
   },
   "file_extension": ".py",
   "mimetype": "text/x-python",
   "name": "python",
   "nbconvert_exporter": "python",
   "pygments_lexer": "ipython3",
   "version": "3.6.0"
  }
 },
 "nbformat": 4,
 "nbformat_minor": 2
}
